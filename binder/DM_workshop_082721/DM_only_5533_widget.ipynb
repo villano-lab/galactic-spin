{
 "cells": [
  {
   "cell_type": "code",
   "execution_count": 1,
   "metadata": {},
   "outputs": [],
   "source": [
    "#Imports\n",
    "import sys\n",
    "sys.path.append('../python/')\n",
    "import NGC5533_functions as nf\n",
    "import noordermeer as noord\n",
    "import fitting_NGC5533 as fitting\n",
    "import dataPython as dp\n",
    "\n",
    "import numpy as np\n",
    "import matplotlib.pyplot as plt\n",
    "%matplotlib inline\n",
    "\n",
    "from ipywidgets import interactive, fixed, FloatSlider, HBox, Layout, Button, Label, Output, VBox\n",
    "\n",
    "from IPython.display import display, clear_output\n",
    "from IPython.display import Javascript\n",
    "\n",
    "import scipy.stats as stats\n",
    "import warnings\n",
    "warnings.filterwarnings(\"ignore\")  #ignore warnings"
   ]
  },
  {
   "cell_type": "code",
   "execution_count": 2,
   "metadata": {},
   "outputs": [],
   "source": [
    "#TRACING:**************************************\n",
    "#data points:\n",
    "data = dp.getXYdata_wXYerr('../data/final/nord-120kpc-datapoints.txt')\n",
    "r_dat = np.asarray(data['xx'])\n",
    "v_dat = np.asarray(data['yy'])\n",
    "v_err0 = np.asarray(data['ex'])\n",
    "v_err1 = np.asarray(data['ey'])"
   ]
  },
  {
   "cell_type": "code",
   "execution_count": 3,
   "metadata": {},
   "outputs": [],
   "source": [
    "# Define components\n",
    "M = fitting.f_M\n",
    "bpref = fitting.f_c\n",
    "dpref = fitting.f_pref\n",
    "rc = fitting.f_rc\n",
    "rho00 = fitting.f_hrho00\n",
    "gpref = fitting.f_gpref\n",
    "def blackhole(r):\n",
    "    return nf.bh_v(r,M,load=False)\n",
    "\n",
    "def bulge(r):\n",
    "    return bpref*nf.b_v(r,load=True)\n",
    "\n",
    "def disk(r):\n",
    "    return dpref*nf.d_thief(r)\n",
    "\n",
    "def halo(r,rc,rho00):\n",
    "    return nf.h_v(r,rc,rho00,load=False)\n",
    "\n",
    "def gas(r):\n",
    "    return gpref*nf.g_thief(r)\n",
    "def totalcurve(r,rc,rho00):\n",
    "    total = np.sqrt(blackhole(r)**2 \n",
    "                    + bulge(r)**2 \n",
    "                    + disk(r)**2\n",
    "                    + halo(r,rc,rho00)**2\n",
    "                    + gas(r)**2)\n",
    "    return total"
   ]
  },
  {
   "cell_type": "code",
   "execution_count": 4,
   "metadata": {},
   "outputs": [
    {
     "name": "stdout",
     "output_type": "stream",
     "text": [
      "2.6967662132698145\n"
     ]
    }
   ],
   "source": [
    "#best fitted prefactor values for each component, to be used as default (initial) values for widget sliders\n",
    "best_rc = fitting.f_rc\n",
    "best_rho00 = fitting.f_hrho00\n",
    "\n",
    "import scipy.integrate as si             # for integration\n",
    "\n",
    "# Equation for isothermal density\n",
    "def density_iso(r,rho00,rc):\n",
    "    density = rho00 * (1 + (r/rc)**2)**(-1)\n",
    "    return density\n",
    "\n",
    "# Equation for mass as a function of radius\n",
    "def mass_function(r,rho00,rc):\n",
    "    mass = 4 * np.pi * density_iso(r,rho00,rc) * r**2\n",
    "    return mass\n",
    "\n",
    "# Integrate to calculate total mass enclosed\n",
    "Mass = lambda r,rho00,rc: si.quad(mass_function, 0, r, args=(rho00,rc))[0]\n",
    "radius = 100   # in kpc, approximation of infinity; the radius within which the total mass of the halo is being calculated\n",
    "\n",
    "'''\n",
    "##finding mass?\n",
    "rr=max(r_dat) #kpc\n",
    "h=8.9/2 #kpc; is this the thickness of the galaxy???\n",
    "volume=np.pi*2*rr**2*h\n",
    "def Mass(rc,rho00):\n",
    "    density=rho00*(1+(rr/rc)**2)**-1\n",
    "    Mass = volume*density\n",
    "    return Mass\n",
    "'''\n",
    "print(Mass(1,1,1))"
   ]
  },
  {
   "cell_type": "code",
   "execution_count": 5,
   "metadata": {},
   "outputs": [],
   "source": [
    "# Define plotting function\n",
    "def f(rc,rho00):\n",
    "    \n",
    "    # Define r\n",
    "    r = np.linspace(0.1,13,1000)\n",
    "    \n",
    "    # Plot\n",
    "    plt.figure(figsize=(12,8))\n",
    "    plt.xlim(0,13)\n",
    "    plt.ylim(0,360)\n",
    "    \n",
    "    plt.errorbar(r_dat,v_dat,yerr=v_err1,fmt='bo',label='Data')\n",
    "    plt.plot(r,blackhole(r),label=(\"Black Hole\"),color='black')\n",
    "    plt.plot(r,bulge(r),label=(\"Bulge\"),color='orange')\n",
    "    plt.plot(r,disk(r),label=(\"Disk\"),color='purple')\n",
    "    plt.plot(r,halo(r,rc,rho00),label=(\"Halo\"),color='green')\n",
    "    plt.plot(r,gas(r),label=(\"Gas\"),color='blue')\n",
    "    plt.plot(r,totalcurve(r,rc,rho00),label=(\"Total Curve\"),color='red')\n",
    "    plt.plot(r,(blackhole(r)**2+bulge(r)**2+disk(r)**2+gas(r)**2)**(1/2),label=(\"All Luminous Matter\"),linestyle='--')\n",
    "    plt.fill_between(r,\n",
    "                     noord.greyb_bottom(r),noord.greyb_top(r),\n",
    "                     color='#dddddd')\n",
    "    plt.title(\"Interactive Rotation Curve - Galaxy: NGC 5533\")\n",
    "    plt.xlabel(\"Radius (kpc)\")\n",
    "    plt.ylabel(\"Velocity (km/s)\")\n",
    "    \n",
    "    # Chi squared and reduced chi squared\n",
    "    # Residuals\n",
    "    r = np.linspace(0.1,100,69)\n",
    "    residuals = v_dat - totalcurve(r_dat,rc,rho00)\n",
    "    residuals[0] = v_dat[0] #set totalcurve to 0 at 0 - currently going to infinity which results in fitting issues.\n",
    "    # Determining errors\n",
    "    errors = v_err1 #np.sqrt(v_err1**2 + noord.band**2) #inclination uncertainty shouldn't apply to this galaxy as we don't have one given.\n",
    "    # Chi squared\n",
    "    chisquared = np.sum(residuals**2/errors**2)\n",
    "    #chisquared = stats.chisquare(v_dat,totalcurve(r,M,bpref,dpref,rc,rho00,gpref))\n",
    "    reducedchisquared = chisquared * (1/(len(r_dat)-6))\n",
    "    \n",
    "    props = dict(boxstyle='round', facecolor='white', alpha=0.5)\n",
    "    plt.text(10.15,325,r\"$\\chi^2$: {:.5f}\".format(chisquared)+'\\n'+r\"Reduced: {:.5f}\".format(reducedchisquared),bbox=props)\n",
    "    #plt.text(80,150,,bbox=props)\n",
    "    TotalMass = Mass(radius,rho00,rc)\n",
    "    props = dict(boxstyle='round', facecolor='white', alpha=0.5)\n",
    "    plt.text(6,325,r\"Total Dark Matter Mass: {:.2e}\".format(TotalMass)+'$M_{\\odot}$',bbox=props)\n",
    "    plt.legend(loc='lower right')\n",
    "    plt.annotate('Data source: E. Noordermeer. The rotation curves of flattened Sérsic bulges. MNRAS,385(3):1359–1364, Apr 2008',\n",
    "            xy=(0, 0), xytext=(0,5),\n",
    "            xycoords=('axes fraction', 'figure fraction'),\n",
    "            textcoords='offset points',\n",
    "            size=10, ha='left', va='bottom')\n",
    "    \n",
    "    plt.show()\n",
    "    "
   ]
  },
  {
   "cell_type": "code",
   "execution_count": 6,
   "metadata": {},
   "outputs": [],
   "source": [
    "# Appearance\n",
    "style = {'description_width': 'initial'}\n",
    "layout = {'width':'600px'}\n",
    "\n",
    "# Define slides\n",
    "\n",
    "\n",
    "rc = FloatSlider(min=0.1, max=5, step=0.1, \n",
    "                    value=0.01, \n",
    "                    description='Halo Core Radius [kpc]', \n",
    "                    readout_format='.2f', \n",
    "                    orientation='horizontal', \n",
    "                    style=style, layout=layout)\n",
    "rho00 = FloatSlider(min=0, max=1e9, step=1e7, \n",
    "                    value=.1, \n",
    "                    description=r'Halo Surface Density [$M_{\\odot} / pc^3$]', \n",
    "                    readout_format='.2e', \n",
    "                    orientation='horizontal', \n",
    "                    style=style, layout=layout)\n",
    "\n",
    "# Interactive widget\n",
    "def interactive_plot(f):\n",
    "    interact = interactive(f,\n",
    "                               rc = rc,\n",
    "                               rho00 = rho00,\n",
    "                               continuous_update=False)\n",
    "    return interact\n",
    "\n",
    "# Button to revert back to Best Fit\n",
    "button = Button(\n",
    "    description=\"Best Fit\",\n",
    "    button_style='warning', # 'success', 'info', 'warning', 'danger' or ''\n",
    "    icon='check')\n",
    "out = Output()\n",
    "\n",
    "def on_button_clicked(_):\n",
    "    #display(Javascript('IPython.notebook.execute_cells_below()'))\n",
    "    rc.value=best_rc\n",
    "    rho00.value = best_rho00\n",
    "\n",
    "button.on_click(on_button_clicked)\n"
   ]
  },
  {
   "cell_type": "markdown",
   "metadata": {},
   "source": [
    "## What do rotation curves look like without dark matter?\n",
    "In this activity, you can visualize how important dark matter is to accurately describing observed data (marked in blue points with error bars below)\n",
    "\n",
    "So how much mass does a dark matter halo need to contain (i.e. how much dark matter is in a given galaxy) to account for our observations?"
   ]
  },
  {
   "cell_type": "code",
   "execution_count": 7,
   "metadata": {},
   "outputs": [
    {
     "data": {
      "application/vnd.jupyter.widget-view+json": {
       "model_id": "c7bda5cf33604748bbe76638fae1e6a7",
       "version_major": 2,
       "version_minor": 0
      },
      "text/plain": [
       "VBox(children=(Button(button_style='warning', description='Best Fit', icon='check', style=ButtonStyle()), Outp…"
      ]
     },
     "metadata": {},
     "output_type": "display_data"
    }
   ],
   "source": [
    "# displaying button and its output together\n",
    "VBox([button,out,interactive_plot(f)])"
   ]
  },
  {
   "cell_type": "markdown",
   "metadata": {},
   "source": [
    "## Slider Key\n",
    "\n",
    "\n",
    "The halo surface density behaves as a prefactor for the **dark matter \"halo\"** in and around the galaxy. \n",
    "Its units are solar masses per cubic parsec (and in this fit is on the scale of hundreds of millions).\n",
    "This represents how much dark matter we think there is overall. \n",
    "\n",
    "Play around with the halo parameters and see how incorporating a dark matter component allows us to more accurately match our observations.\n",
    "\n",
    "**Rembember, a reduced $\\chi^2$ close to 1 is generally considered a good fit. So  reduced $\\chi^2$ far higher or lower than 1 suggests a poor theoretical model (that is, the model probably doesn't accurately describe the real universe).**\n",
    "\n",
    "*key*\n",
    "\n",
    "kpc = kiloparsec, equal to 3.26 light years, or $1.917 \\times 10^{16}$ miles <br>\n",
    "km/s = kilometers per second (this is a velocity) <br>\n",
    "$M_{\\odot}$ = solar masses (X number of masses equal to our sun), approximately equal to $1.989 \\times 10^{30}$ kilograms <br>\n",
    "$M_{\\odot} / pc^3$ = solar masses per parsec cubed (this is a 3D density) <br>\n"
   ]
  },
  {
   "cell_type": "code",
   "execution_count": null,
   "metadata": {},
   "outputs": [],
   "source": []
  }
 ],
 "metadata": {
  "kernelspec": {
   "display_name": "Python 3",
   "language": "python",
   "name": "python3"
  },
  "language_info": {
   "codemirror_mode": {
    "name": "ipython",
    "version": 3
   },
   "file_extension": ".py",
   "mimetype": "text/x-python",
   "name": "python",
   "nbconvert_exporter": "python",
   "pygments_lexer": "ipython3",
   "version": "3.7.9"
  }
 },
 "nbformat": 4,
 "nbformat_minor": 4
}
