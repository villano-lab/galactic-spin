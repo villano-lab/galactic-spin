{
 "cells": [
  {
   "cell_type": "code",
   "execution_count": 1,
   "metadata": {},
   "outputs": [],
   "source": [
    "import sys\n",
    "sys.path.append('python/')\n",
    "\n",
    "import time\n",
    "startTime = time.time()\n",
    "\n",
    "import numpy as np\n",
    "import matplotlib.pyplot as plt \n",
    "import load_galaxies as lg\n",
    "import matplotlib.image as mpimg\n",
    "import lmfit as lm"
   ]
  },
  {
   "cell_type": "markdown",
   "metadata": {},
   "source": [
    "_Python help: Running the notebook the first time, make sure to run all cells to be able to make changes in the notebook. Hit Shift+Enter to run the cell or click on the top menu: Kernel > Restart & Run All > Restart and Run All Cells to rerun the whole notebook. If you make any changes in a cell, rerun that cell._"
   ]
  },
  {
   "cell_type": "markdown",
   "metadata": {},
   "source": [
    "# Fitting"
   ]
  },
  {
   "cell_type": "markdown",
   "metadata": {},
   "source": [
    "In this notebook, select one of four galaxies, import the prepared rotation curves of all components and find the scaling factors by fitting them to the measured data points. The dark matter component has two free parameters: one that changes the amplitude of the curve (rho0: central mass density) and the other that changes the shape of the curve (rc: core radius). All other components have only one free parameter each to change the amplitude. Let's import all the data and curves, and define some functions for the fitting. "
   ]
  },
  {
   "cell_type": "markdown",
   "metadata": {},
   "source": [
    "## Choose your galaxy"
   ]
  },
  {
   "cell_type": "code",
   "execution_count": null,
   "metadata": {},
   "outputs": [],
   "source": [
    "# Display image for choosing a galaxy\n",
    "img = mpimg.imread('images/choosegalaxy.jpg')\n",
    "plt.figure(figsize=(20,17))\n",
    "imgplot = plt.imshow(img)\n",
    "plt.axis('off')\n",
    "plt.show()"
   ]
  },
  {
   "cell_type": "code",
   "execution_count": null,
   "metadata": {},
   "outputs": [],
   "source": [
    "galaxy = lg.NGC5533                # Choose between NGC5533, NGC891, NGC7814 and NGC5005 galaxies"
   ]
  },
  {
   "cell_type": "markdown",
   "metadata": {},
   "source": [
    "## Import data and curves"
   ]
  },
  {
   "cell_type": "code",
   "execution_count": null,
   "metadata": {},
   "outputs": [],
   "source": [
    "# Measured data\n",
    "measured_data = galaxy['measured_data']\n",
    "\n",
    "# Separate the columns into arrays\n",
    "m_radii = galaxy['m_radii']           # Radius\n",
    "m_velocities = galaxy['m_velocities'] # Velocity\n",
    "m_r_errors = galaxy['m_r_errors']     # Errors in radius\n",
    "m_v_errors = galaxy['m_v_errors']     # Errors in velocity\n",
    "\n",
    "# Velocity equation for the central supermassive black hole (only for NGC 5533)\n",
    "massbh = galaxy['massbh']            # Mass of the central black hole in (solar mass)\n",
    "G = 4.300e-6                         # Gravitational constant (kpc/solar mass*(km/s)^2)\n",
    "def blackhole_v(r,massbh):\n",
    "    return np.sqrt((G*massbh)/r)\n",
    "\n",
    "# Import curves of each component\n",
    "# Bulge\n",
    "bulge_v = galaxy['bulge']['spline']\n",
    "# Disk\n",
    "disk_v = galaxy['disk']['spline']\n",
    "# Gas\n",
    "gas_v = galaxy['gas']['spline']"
   ]
  },
  {
   "cell_type": "markdown",
   "metadata": {},
   "source": [
    "## Calculate dark matter halo component"
   ]
  },
  {
   "cell_type": "code",
   "execution_count": null,
   "metadata": {},
   "outputs": [],
   "source": [
    "# Set parameters\n",
    "rho0 = galaxy['rho0']   # central mass density (in solar mass/kpc^3)\n",
    "rc = galaxy['rc']       # core radius (in kpc)\n",
    "\n",
    "# Equation for dark matter halo velocity\n",
    "def halo_v(r,rho0,rc):\n",
    "    v = np.sqrt(4*np.pi*G*rho0*rc**2*(1 - rc/r * np.arctan(r/rc)))\n",
    "    return v"
   ]
  },
  {
   "cell_type": "markdown",
   "metadata": {},
   "source": [
    "## Define some values and functions"
   ]
  },
  {
   "cell_type": "code",
   "execution_count": null,
   "metadata": {},
   "outputs": [],
   "source": [
    "# Express weight\n",
    "weighdata = 1/m_v_errors\n",
    "\n",
    "# Define function for total velocity with prefactors (scaling parameters)\n",
    "def total_v_pref(r,massbh,bulge_pref,disk_pref,gas_pref,rho0,rc):\n",
    "    return np.sqrt(blackhole_v(r,massbh)**2\n",
    "                   + (bulge_pref * bulge_v(r))**2 \n",
    "                   + (disk_pref * disk_v(r))**2 \n",
    "                   + (gas_pref * gas_v(r))**2\n",
    "                   + (halo_v(r,rho0,rc)**2))\n",
    "\n",
    "# Define function for total velocity with prefactors (scaling parameters), with no dark matter\n",
    "def total_v_pref_noDM(r,massbh,bulge_pref,disk_pref,gas_pref):\n",
    "    return np.sqrt(blackhole_v(r,massbh)**2\n",
    "                   + (bulge_pref * bulge_v(r))**2 \n",
    "                   + (disk_pref * disk_v(r))**2 \n",
    "                   + (gas_pref * gas_v(r))**2)"
   ]
  },
  {
   "cell_type": "markdown",
   "metadata": {},
   "source": [
    "## Fitting parameters"
   ]
  },
  {
   "cell_type": "markdown",
   "metadata": {},
   "source": [
    "1. Parameters can be varied during the fit. __Turn these off and on by changing 'vary=True' to 'vary=False' or 'vary=False' to 'vary=True' to see how your results of the fit change in the plot and for the fit statistics displayed below.__ Notice that the dark matter halo has two free parameters: rho0 and rc that changes the amplitude and the shape, respectively. __Vary one of these parameters and fix (vary=False) the other and note the difference.__<br><br>\n",
    "\n",
    "2. __Now, use the total velocity equation without dark matter (total_v_pref_noDM equation) and find the fitting parameters.__ You can comment out (put a # in front of) the lines: \"f_params.add('rc'...\" and \"f_params.add('rho0'...\" so it won't confuse you when Python prints the fit statistics.<br>\n",
    "_Python help: to use a different equation for the fitting, change the line: f_\\__mod = lm.Model(equation)._"
   ]
  },
  {
   "cell_type": "code",
   "execution_count": null,
   "metadata": {},
   "outputs": [],
   "source": [
    "# Setup \n",
    "f_mod = lm.Model(total_v_pref)               # using the equation with dark matter for the fitting\n",
    "#f_mod = lm.Model(total_v_pref_noDM)         # using the equation without dark matter for the fitting\n",
    "f_params = f_mod.make_params()               # define parameters\n",
    "\n",
    "# Dark matter halo\n",
    "f_params.add('rc',         vary=True,  value=rc,     min=0.1)         # core radius (kpc)\n",
    "f_params.add('rho0',       vary=True,  value=rho0,   min=0)           # central halo density (solar mass/kpc^3)\n",
    "\n",
    "# Black Hole\n",
    "f_params.add('massbh',     vary=True,  value=massbh, min=massbh)      # mass of central black hole\n",
    "\n",
    "# Bulge\n",
    "f_params.add('bulge_pref', vary=True,  value=1,      min=0,max=100)   # bulge prefactor\n",
    "\n",
    "# Disk\n",
    "f_params.add('disk_pref',  vary=True,  value=1,      min=0,max=100)   # disk prefactor\n",
    "\n",
    "# Gas\n",
    "f_params.add('gas_pref',   vary=False, value=1,      min=.8,max=1.2)  # gas prefactor"
   ]
  },
  {
   "cell_type": "markdown",
   "metadata": {},
   "source": [
    "## Do the fitting"
   ]
  },
  {
   "cell_type": "markdown",
   "metadata": {},
   "source": [
    "Let Python calculate the fitting parameters and display the fit statistics. Examine the results for the values of each variable. "
   ]
  },
  {
   "cell_type": "code",
   "execution_count": null,
   "metadata": {},
   "outputs": [],
   "source": [
    "f_fit = f_mod.fit(m_velocities,f_params,r=m_radii,weights=weighdata)\n",
    "\n",
    "# Show fit statistics\n",
    "f_fit"
   ]
  },
  {
   "cell_type": "markdown",
   "metadata": {},
   "source": [
    "### Chi-square $\\chi^2$:\n",
    "\n",
    "The chi-squared value is an indication of the goodness of your fit or how well the observed and expected data agree. A zero chi-squared value would mean a perfect fit (data points connected with a line) which would mean a nonphysical system and is highly unlikely. The expected value of chi-squared is the number of degrees of freedom or \"the number of observed points minus the number of parameters computed from the data and used in the calculation\" (Taylor, 1997).\n",
    "\n",
    "\n",
    "### Reduced chi-square:\n",
    "The reduced chi-squared value is the chi-squared value divided by the degree of freedom. In general, we would want this value to be close to 1 to be a good fit. "
   ]
  },
  {
   "cell_type": "markdown",
   "metadata": {},
   "source": [
    "## Define parameters for plotting"
   ]
  },
  {
   "cell_type": "code",
   "execution_count": null,
   "metadata": {},
   "outputs": [],
   "source": [
    "# Define curve of the best fit\n",
    "bestf = f_fit.best_fit\n",
    "\n",
    "# Define radius for plotting\n",
    "r_lowerlim = np.min(m_radii)                       # limit the radius to the min value of the measured radius\n",
    "if r_lowerlim == 0:                                # getting rid of dividing by zero error\n",
    "    r_lowerlim = 0.01\n",
    "r_upperlim = np.max(m_radii)                       # limit the radius to the max value of the measured radius\n",
    "r = np.linspace(r_lowerlim,r_upperlim,100)         # starting from zero results in a divide by zero error"
   ]
  },
  {
   "cell_type": "markdown",
   "metadata": {},
   "source": [
    "## Plot result"
   ]
  },
  {
   "cell_type": "markdown",
   "metadata": {},
   "source": [
    "1. __Zoom into the graph by changing the limits of the x-axis to see how well the total curve lines up with the measured points.__"
   ]
  },
  {
   "cell_type": "code",
   "execution_count": null,
   "metadata": {
    "scrolled": false
   },
   "outputs": [],
   "source": [
    "plt.figure(figsize=(10.0,7.0))                                     # size of the plot\n",
    "plt.title('{} Fitting'.format(galaxy['galaxyname']), fontsize=14)  # giving the plot a title\n",
    "plt.xlabel('Radius (kpc)', fontsize=12)                            # labeling the x-axis\n",
    "plt.ylabel('Velocity (km/s)', fontsize=12)                         # labeling the y-axis\n",
    "plt.xlim(0,r_upperlim)                                             # limits of the x-axis\n",
    "plt.ylim(0,350)                                                    # limits of the y-axis\n",
    "\n",
    "plt.errorbar(m_radii,m_velocities,yerr=m_v_errors,fmt='bo')        # plot measured data points\n",
    "plt.plot(m_radii,bestf, color='r', label='Best fit')               # plot the best fit to the data points\n",
    "plt.plot(r,total_v_pref(r,massbh=massbh,bulge_pref=1,disk_pref=1,gas_pref=1,rho0=rho0,rc=rc), \\\n",
    "         color='darkviolet', label='Total curve before fitting')   \n",
    "plt.plot(r,total_v_pref_noDM(r,massbh=massbh,bulge_pref=1,disk_pref=1,gas_pref=1), \\\n",
    "         color='gold', label='Total curve before fitting - without dark matter')\n",
    "\n",
    "plt.legend(loc=\"lower right\")\n",
    "plt.show()"
   ]
  },
  {
   "cell_type": "markdown",
   "metadata": {},
   "source": [
    "## Bonus: Calculate the total mass of the dark matter"
   ]
  },
  {
   "cell_type": "markdown",
   "metadata": {},
   "source": [
    "1. __Using the equation for the Mass as a function of radius, $M(r)$ from the Interactive_Rotation_Curve_Plotting notebook, calculate the total mass enclosed within the given radius. For the mass density, $\\rho (r)$ function, use either the isothermal or the NFW density distribution.__ <br><br>\n",
    "\n",
    "2. __Change the radius to see how much the total mass of the dark matter enclosed in that radius changes.__<br>\n",
    "_Python help: Modify the radius by changing the line: radius = 25_"
   ]
  },
  {
   "cell_type": "code",
   "execution_count": null,
   "metadata": {},
   "outputs": [],
   "source": [
    "import scipy.integrate as si             # for integration\n",
    "\n",
    "# Equation for isothermal density\n",
    "def density_iso(r,rho0,rc):\n",
    "    density = rho0 * (1 + (r/rc)**2)**(-1)\n",
    "    return density\n",
    "\n",
    "# Equation for NFW density\n",
    "def density_nfw(r,rho0,rc):\n",
    "    density = rho0 * ((r/rc) * ((1+r/rc)**2))**(-1)\n",
    "    return density\n",
    "\n",
    "# Equation for mass as a function of radius\n",
    "def mass_function(r,rho0,rc):\n",
    "    mass = 4 * np.pi * density_iso(r,rho0,rc) * r**2\n",
    "    return mass\n",
    "\n",
    "# Integrate to calculate total mass enclosed\n",
    "totalmass = lambda r,rho0,rc: si.quad(mass_function, 0, r, args=(rho0,rc))[0]\n",
    "\n",
    "# Radius at which we are calculating the total mass enclosed\n",
    "radius = 25   # in kpc\n",
    "\n",
    "# Total mass\n",
    "print(\"Total mass of the dark matter between 0 and {} kpc is {:.3e} solar masses.\".format(radius,totalmass(radius,rho0,rc)))"
   ]
  },
  {
   "cell_type": "markdown",
   "metadata": {},
   "source": [
    "## Bonus: Difference between isothermal and NFW density profiles of the dark matter halo"
   ]
  },
  {
   "cell_type": "markdown",
   "metadata": {},
   "source": [
    "Examine the difference between the two density profiles for the dark matter halo."
   ]
  },
  {
   "cell_type": "code",
   "execution_count": null,
   "metadata": {},
   "outputs": [],
   "source": [
    "plt.figure(figsize=(10.0,7.0))                            # size of the plot\n",
    "plt.plot(r,density_iso(r,rho0,rc), label='Isothermal density')\n",
    "plt.plot(r,density_nfw(r,rho0,rc), label='NFW density')\n",
    "plt.title('Density profiles of dark matter', fontsize=14) # giving the plot a title\n",
    "plt.xlabel('Radius (kpc)', fontsize=12)                   # labeling the x-axis\n",
    "plt.ylabel('Density (solar mass/$kpc^3$)', fontsize=12)                        # labeling the y-axis\n",
    "plt.xlim(0,10)                                            # limits of x-axis\n",
    "plt.ylim(0,1e8)                                           # limits of y-axis\n",
    "plt.legend(loc=\"upper right\")\n",
    "plt.show()"
   ]
  },
  {
   "cell_type": "code",
   "execution_count": null,
   "metadata": {},
   "outputs": [],
   "source": [
    "# Time\n",
    "executionTime = (time.time() - startTime)\n",
    "ttt=executionTime/60\n",
    "print(f'Execution time: {ttt:.2f} minutes')"
   ]
  },
  {
   "cell_type": "markdown",
   "metadata": {},
   "source": [
    "# References <br>\n",
    ">Casertano, Stefano. __\"Rotation curve of the edge-on spiral galaxy NGC 5907: disc and halo masses.\"__ _Monthly Notices of the Royal Astronomical Society_ 203, no. 3 (1983): 735-747. https://doi.org/10.1093/mnras/203.3.735. <br><br>\n",
    ">Fraternali, F., R. Sancisi, and P. Kamphuis. __“A Tale of Two Galaxies: Light and Mass in NGC 891 and NGC 7814.”__ Astronomy &amp; Astrophysics 531 (June 13, 2011). https://doi.org/10.1051/0004-6361/201116634.<br><br> \n",
    ">Jimenez, Raul, Licia Verde, and S. Peng Oh. __\"Dark halo properties from rotation curves.\"__ _Monthly Notices of the Royal Astronomical Society_ 339, no. 1 (2003): 243-259. https://doi.org/10.1046/j.1365-8711.2003.06165.x. <br><br>\n",
    ">Kapteyn Institute. (n.d.). Groningen Image Processing System. __GIPSY, the GRONINGEN image processing system.__ https://www.astro.rug.nl/~gipsy/index.html. <br><br>\n",
    ">Karukes, E. V., P. Salucci, and Gianfranco Gentile. __\"The dark matter distribution in the spiral NGC 3198 out to 0.22 $R_{vir}$.\"__ _Astronomy & Astrophysics_ 578 (2015): A13. https://doi.org/10.1051/0004-6361/201425339. <br><br>\n",
    ">Noordermeer, Edo. __\"The rotation curves of flattened Sérsic bulges.\"__ _Monthly Notices of the Royal Astronomical Society_ 385, no. 3 (2007): 1359-1364. https://doi.org/10.1111/j.1365-2966.2008.12837.x. <br><br>\n",
    ">Richards, Emily E., L. van Zee, K. L. Barnes, S. Staudaher, D. A. Dale, T. T. Braun, D. C. Wavle, et al. __“Baryonic Distributions in the Dark Matter Halo of NGC 5005.”__ Monthly Notices of the Royal Astronomical Society 449, no. 4 (June 1, 2015): 3981–96. https://doi.org/10.1093/mnras/stv568. <br><br>\n",
    ">Taylor, John Robert. __An Introduction to Error Analysis: The Study of Uncertainties in Physical Measurements.__ 2nd ed. United States of America: University Science Books, 1997. \n",
    "***"
   ]
  },
  {
   "cell_type": "code",
   "execution_count": null,
   "metadata": {},
   "outputs": [],
   "source": []
  }
 ],
 "metadata": {
  "kernelspec": {
   "display_name": "Python 3",
   "language": "python",
   "name": "python3"
  },
  "language_info": {
   "codemirror_mode": {
    "name": "ipython",
    "version": 3
   },
   "file_extension": ".py",
   "mimetype": "text/x-python",
   "name": "python",
   "nbconvert_exporter": "python",
   "pygments_lexer": "ipython3",
   "version": "3.7.1"
  }
 },
 "nbformat": 4,
 "nbformat_minor": 2
}
