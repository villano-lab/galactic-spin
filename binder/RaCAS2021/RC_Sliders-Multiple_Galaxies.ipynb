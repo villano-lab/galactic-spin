{
 "cells": [
  {
   "cell_type": "markdown",
   "metadata": {},
   "source": [
    "## Instructions\n",
    "Please be patient while waiting for the environment to load; it may take a few minutes. \n",
    "Once the notebook has finished loading, in the top bar, select `Kernel`--> `Restart & Run All`. \n",
    "Once cell has finished running, you should see a plot with  sliders appear at the bottom.\n",
    "Enjoy!"
   ]
  },
  {
   "cell_type": "code",
   "execution_count": 1,
   "metadata": {},
   "outputs": [
    {
     "data": {
      "application/vnd.jupyter.widget-view+json": {
       "model_id": "446d316bc9c6479ca2a342ec67a51ab9",
       "version_major": 2,
       "version_minor": 0
      },
      "text/plain": [
       "VBox(children=(Button(button_style='warning', description='Best Fit', icon='check', style=ButtonStyle()), Outp…"
      ]
     },
     "metadata": {},
     "output_type": "display_data"
    }
   ],
   "source": [
    "#Imports\n",
    "import sys;\n",
    "sys.path.append('../python/')\n",
    "import widget as widget\n",
    "# Widget Output\n",
    "widget.VBox([widget.button,widget.out,widget.interactive_plot(widget.f)])"
   ]
  },
  {
   "cell_type": "code",
   "execution_count": 2,
   "metadata": {},
   "outputs": [
    {
     "name": "stdout",
     "output_type": "stream",
     "text": [
      "Fit information for all-component fit:\n"
     ]
    },
    {
     "data": {
      "application/vnd.jupyter.widget-view+json": {
       "model_id": "5447d07a96c7441b9b8305169556cd27",
       "version_major": 2,
       "version_minor": 0
      },
      "text/plain": [
       "VBox(children=(Button(button_style='warning', description='Best Fit', icon='check', style=ButtonStyle()), Outp…"
      ]
     },
     "metadata": {},
     "output_type": "display_data"
    }
   ],
   "source": [
    "import widget2 as widget2\n",
    "# Widget Output\n",
    "widget2.VBox([widget2.button,widget2.out,widget2.interactive_plot(widget2.f)])"
   ]
  },
  {
   "cell_type": "code",
   "execution_count": 3,
   "metadata": {},
   "outputs": [
    {
     "name": "stdout",
     "output_type": "stream",
     "text": [
      "Fit information for all-component fit:\n"
     ]
    },
    {
     "data": {
      "application/vnd.jupyter.widget-view+json": {
       "model_id": "a88d2bf7841e467b9b5490531d556c7a",
       "version_major": 2,
       "version_minor": 0
      },
      "text/plain": [
       "VBox(children=(Button(button_style='warning', description='Best Fit', icon='check', style=ButtonStyle()), Outp…"
      ]
     },
     "metadata": {},
     "output_type": "display_data"
    }
   ],
   "source": [
    "import widget3 as widget3\n",
    "# Widget Output\n",
    "widget3.VBox([widget3.button,widget3.out,widget3.interactive_plot(widget3.f)])"
   ]
  },
  {
   "cell_type": "code",
   "execution_count": 4,
   "metadata": {},
   "outputs": [
    {
     "name": "stdout",
     "output_type": "stream",
     "text": [
      "Fit information for all-component fit:\n"
     ]
    },
    {
     "data": {
      "application/vnd.jupyter.widget-view+json": {
       "model_id": "0c6f426527e74c7abdc888de3b24b1b3",
       "version_major": 2,
       "version_minor": 0
      },
      "text/plain": [
       "VBox(children=(Button(button_style='warning', description='Best Fit', icon='check', style=ButtonStyle()), Outp…"
      ]
     },
     "metadata": {},
     "output_type": "display_data"
    }
   ],
   "source": [
    "import widget4 as widget4\n",
    "# Widget Output\n",
    "widget4.VBox([widget4.button,widget4.out,widget4.interactive_plot(widget4.f)])"
   ]
  },
  {
   "cell_type": "markdown",
   "metadata": {},
   "source": [
    "## Slider Key\n",
    "\n",
    "The prefactor for the **black hole** is the square root of its mass. \n",
    "Because it is more physically meaningful and not computationally intensive, we have you control the mass of the black hole rather than the prefactor itself.\n",
    "The units of the black hole's mass are solar masses (multiply the value by the mass of our Sun. Note that 'e+9' equates to a billion--that's a billion solar masses!).\n",
    "\n",
    "The prefactors for the **bulge** and the **disk** relate to the mass-to-light ratio.\n",
    "A prefactor of one means that you are using the M/L we generally expect from stars, and increasing the prefactor means increasing the expected mass for a given amount of light. \n",
    "\n",
    "The halo surface density behaves as a prefactor for the **dark matter \"halo\"** in and around the galaxy. \n",
    "Its units are solar masses per cubic parsec (and in this fit is on the scale of hundreds of millions).\n",
    "This represents how much dark matter we think there is overall. \n",
    "\n",
    "The **gas** prefactor is similar to the bulge and disk prefactors. \n",
    "Rather than being for a stellar M/L, it representss the amount of radiation emitted by interstellar gas. \n",
    "A value of 1 means using the expected amount of radiation, and increasing the prefactor means increasing the expected mass for a given amount of radiation (note that this is why the gas component is kept static during fitting, as increasing or decreasing the gas prefactor would be digressing from the known physical laws of H1 emissions)."
   ]
  }
 ],
 "metadata": {
  "kernelspec": {
   "display_name": "Python 3",
   "language": "python",
   "name": "python3"
  },
  "language_info": {
   "codemirror_mode": {
    "name": "ipython",
    "version": 3
   },
   "file_extension": ".py",
   "mimetype": "text/x-python",
   "name": "python",
   "nbconvert_exporter": "python",
   "pygments_lexer": "ipython3",
   "version": "3.7.4"
  }
 },
 "nbformat": 4,
 "nbformat_minor": 4
}
