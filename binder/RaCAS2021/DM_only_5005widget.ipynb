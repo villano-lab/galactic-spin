{
 "cells": [
  {
   "cell_type": "markdown",
   "metadata": {},
   "source": [
    "### This notebook needs to be edited! It's using 5533 curves instead of 5005!"
   ]
  },
  {
   "cell_type": "code",
   "execution_count": null,
   "metadata": {},
   "outputs": [],
   "source": [
    "#Imports\n",
    "import sys\n",
    "sys.path.append('../python/')\n",
    "import NGC5533_functions as nf\n",
    "import noordermeer as noord\n",
    "import fitting_NGC5533 as fitting\n",
    "import dataPython as dp\n",
    "\n",
    "import numpy as np\n",
    "import matplotlib.pyplot as plt\n",
    "%matplotlib inline\n",
    "\n",
    "from ipywidgets import interactive, fixed, FloatSlider, HBox, Layout, Button, Label, Output, VBox\n",
    "\n",
    "from IPython.display import display, clear_output\n",
    "from IPython.display import Javascript\n",
    "\n",
    "import scipy.stats as stats\n",
    "import warnings\n",
    "warnings.filterwarnings(\"ignore\")  #ignore warnings"
   ]
  },
  {
   "cell_type": "code",
   "execution_count": 2,
   "metadata": {},
   "outputs": [],
   "source": [
    "#TRACING:**************************************\n",
    "#data points:\n",
    "data = dp.getXYdata_wXYerr('../data/final/nord-120kpc-datapoints.txt')\n",
    "r_dat = np.asarray(data['xx'])\n",
    "v_dat = np.asarray(data['yy'])\n",
    "v_err0 = np.asarray(data['ex'])\n",
    "v_err1 = np.asarray(data['ey'])"
   ]
  },
  {
   "cell_type": "code",
   "execution_count": 3,
   "metadata": {},
   "outputs": [],
   "source": [
    "# Define components\n",
    "M = fitting.f_M\n",
    "bpref = fitting.f_c\n",
    "dpref = fitting.f_pref\n",
    "rc = fitting.f_rc\n",
    "rho00 = fitting.f_hrho00\n",
    "gpref = fitting.f_gpref\n",
    "def blackhole(r):\n",
    "    return nf.bh_v(r,M,load=False)\n",
    "\n",
    "def bulge(r):\n",
    "    return bpref*nf.b_v(r,load=True)\n",
    "\n",
    "def disk(r):\n",
    "    return dpref*nf.d_thief(r)\n",
    "\n",
    "def halo(r,rc,rho00):\n",
    "    return nf.h_v(r,rc,rho00,load=False)\n",
    "\n",
    "def gas(r):\n",
    "    return gpref*nf.g_thief(r)\n",
    "def totalcurve(r,rc,rho00):\n",
    "    total = np.sqrt(blackhole(r)**2 \n",
    "                    + bulge(r)**2 \n",
    "                    + disk(r)**2\n",
    "                    + halo(r,rc,rho00)**2\n",
    "                    + gas(r)**2)\n",
    "    return total"
   ]
  },
  {
   "cell_type": "code",
   "execution_count": 4,
   "metadata": {},
   "outputs": [
    {
     "name": "stdout",
     "output_type": "stream",
     "text": [
      "588516.6685432013\n",
      "55.91503623509843\n"
     ]
    }
   ],
   "source": [
    "#best fitted prefactor values for each component, to be used as default (initial) values for widget sliders\n",
    "best_rc = fitting.f_rc\n",
    "best_rho00 = fitting.f_hrho00\n",
    "\n",
    "##finding mass?\n",
    "rr=max(r_dat) #kpc\n",
    "h=8.9 #kpc is this the thickness of the galaxy???\n",
    "V=np.pi*2*rr**2*h\n",
    "print(V)\n",
    "def Mass(rc,rho00):\n",
    "    Mass = V*rho00*(1+(rr/rc)**2)**-1\n",
    "    return Mass\n",
    "\n",
    "print(Mass(1,1))"
   ]
  },
  {
   "cell_type": "code",
   "execution_count": 5,
   "metadata": {},
   "outputs": [],
   "source": [
    "# Define plotting function\n",
    "def f(rc,rho00):\n",
    "    \n",
    "    # Define r\n",
    "    r = np.linspace(0.1,13,1000)\n",
    "    \n",
    "    # Plot\n",
    "    plt.figure(figsize=(12,8))\n",
    "    plt.xlim(0,13)\n",
    "    plt.ylim(0,360)\n",
    "    \n",
    "    plt.errorbar(r_dat,v_dat,yerr=v_err1,fmt='bo',label='Data')\n",
    "    plt.plot(r,blackhole(r),label=(\"Black Hole\"),color='black')\n",
    "    plt.plot(r,bulge(r),label=(\"Bulge\"),color='orange')\n",
    "    plt.plot(r,disk(r),label=(\"Disk\"),color='purple')\n",
    "    plt.plot(r,halo(r,rc,rho00),label=(\"Halo\"),color='green')\n",
    "    plt.plot(r,gas(r),label=(\"Gas\"),color='blue')\n",
    "    plt.plot(r,totalcurve(r,rc,rho00),label=(\"Total Curve\"),color='red')\n",
    "    plt.fill_between(r,\n",
    "                     noord.greyb_bottom(r),noord.greyb_top(r),\n",
    "                     color='#dddddd')\n",
    "    plt.title(\"Interactive Rotation Curve - Galaxy: NGC 5533\")\n",
    "    plt.xlabel(\"Radius (kpc)\")\n",
    "    plt.ylabel(\"Velocity (km/s)\")\n",
    "    \n",
    "    # Chi squared and reduced chi squared\n",
    "    # Residuals\n",
    "    r = np.linspace(0.1,100,69)\n",
    "    residuals = v_dat - totalcurve(r_dat,rc,rho00)\n",
    "    residuals[0] = v_dat[0] #set totalcurve to 0 at 0 - currently going to infinity which results in fitting issues.\n",
    "    # Determining errors\n",
    "    errors = v_err1 #np.sqrt(v_err1**2 + noord.band**2) #inclination uncertainty shouldn't apply to this galaxy as we don't have one given.\n",
    "    # Chi squared\n",
    "    chisquared = np.sum(residuals**2/errors**2)\n",
    "    #chisquared = stats.chisquare(v_dat,totalcurve(r,M,bpref,dpref,rc,rho00,gpref))\n",
    "    reducedchisquared = chisquared * (1/(len(r_dat)-6))\n",
    "    \n",
    "    props = dict(boxstyle='round', facecolor='white', alpha=0.5)\n",
    "    plt.text(10.15,325,r\"$\\chi^2$: {:.5f}\".format(chisquared)+'\\n'+r\"Reduced: {:.5f}\".format(reducedchisquared),bbox=props)\n",
    "    #plt.text(80,150,,bbox=props)\n",
    "    TotalMass = Mass(rc,rho00)\n",
    "    props = dict(boxstyle='round', facecolor='white', alpha=0.5)\n",
    "    plt.text(6,325,r\"Total Dark Matter Mass: {:.2e}\".format(TotalMass)+'$M_{\\odot}$',bbox=props)\n",
    "    plt.legend(loc='lower right')\n",
    "    plt.annotate('Data source: E. Noordermeer. The rotation curves of flattened Sérsic bulges. MNRAS,385(3):1359–1364, Apr 2008',\n",
    "            xy=(0, 0), xytext=(0,5),\n",
    "            xycoords=('axes fraction', 'figure fraction'),\n",
    "            textcoords='offset points',\n",
    "            size=10, ha='left', va='bottom')\n",
    "    \n",
    "    plt.show()\n",
    "    "
   ]
  },
  {
   "cell_type": "code",
   "execution_count": 6,
   "metadata": {
    "scrolled": false
   },
   "outputs": [],
   "source": [
    "# Appearance\n",
    "style = {'description_width': 'initial'}\n",
    "layout = {'width':'600px'}\n",
    "\n",
    "# Define slides\n",
    "\n",
    "\n",
    "rc = FloatSlider(min=0, max=5, step=0.1, \n",
    "                    value=0.1, \n",
    "                    description='Halo Core Radius [kpc]', \n",
    "                    readout_format='.2f', \n",
    "                    orientation='horizontal', \n",
    "                    style=style, layout=layout)\n",
    "rho00 = FloatSlider(min=0, max=1e9, step=1e7, \n",
    "                    value=.1, \n",
    "                    description=r'Halo Surface Density [$M_{\\odot} / pc^3$]', \n",
    "                    readout_format='.2e', \n",
    "                    orientation='horizontal', \n",
    "                    style=style, layout=layout)\n",
    "\n",
    "# Interactive widget\n",
    "def interactive_plot(f):\n",
    "    interact = interactive(f,\n",
    "                               rc = rc,\n",
    "                               rho00 = rho00,\n",
    "                               continuous_update=False)\n",
    "    return interact\n",
    "\n",
    "# Button to revert back to Best Fit\n",
    "button = Button(\n",
    "    description=\"Best Fit\",\n",
    "    button_style='warning', # 'success', 'info', 'warning', 'danger' or ''\n",
    "    icon='check')\n",
    "out = Output()\n",
    "\n",
    "def on_button_clicked(_):\n",
    "    #display(Javascript('IPython.notebook.execute_cells_below()'))\n",
    "    rc.value=best_rc\n",
    "    rho00.value = best_rho00\n",
    "\n",
    "button.on_click(on_button_clicked)\n"
   ]
  },
  {
   "cell_type": "markdown",
   "metadata": {},
   "source": [
    "## What do rotation curves look like without dark matter\n",
    "In this activity, you can visualize how important dark matter is to accurately describing observed data (marked in blue points with error bars below)\n",
    "\n",
    "So how much mass does a dark matter halo need to contain (i.e. how much dark matter is in a given galaxy) to account for our observations?"
   ]
  },
  {
   "cell_type": "code",
   "execution_count": 7,
   "metadata": {},
   "outputs": [
    {
     "data": {
      "application/vnd.jupyter.widget-view+json": {
       "model_id": "8a57250260ec43b985551aea64dc5ac5",
       "version_major": 2,
       "version_minor": 0
      },
      "text/plain": [
       "VBox(children=(Button(button_style='warning', description='Best Fit', icon='check', style=ButtonStyle()), Outp…"
      ]
     },
     "metadata": {},
     "output_type": "display_data"
    }
   ],
   "source": [
    "# displaying button and its output together\n",
    "VBox([button,out,interactive_plot(f)])"
   ]
  },
  {
   "cell_type": "markdown",
   "metadata": {},
   "source": [
    "## Slider Key\n",
    "\n",
    "\n",
    "The halo surface density behaves as a prefactor for the **dark matter \"halo\"** in and around the galaxy. \n",
    "Its units are solar masses per cubic parsec (and in this fit is on the scale of hundreds of millions).\n",
    "This represents how much dark matter we think there is overall. \n"
   ]
  }
 ],
 "metadata": {
  "kernelspec": {
   "display_name": "Python 3",
   "language": "python",
   "name": "python3"
  },
  "language_info": {
   "codemirror_mode": {
    "name": "ipython",
    "version": 3
   },
   "file_extension": ".py",
   "mimetype": "text/x-python",
   "name": "python",
   "nbconvert_exporter": "python",
   "pygments_lexer": "ipython3",
   "version": "3.7.1"
  }
 },
 "nbformat": 4,
 "nbformat_minor": 4
}
