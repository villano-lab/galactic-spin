{
 "cells": [
  {
   "cell_type": "markdown",
   "metadata": {},
   "source": [
    "Please be patient while waiting for the environment to load; it may take a few minutes. \n",
    "Once the notebook has finished loading, in the top bar, select `Run`. \n",
    "Once cell has finished running, you should see a plot with  sliders appear at the bottom.\n",
    "Enjoy!"
   ]
  },
  {
   "cell_type": "code",
   "execution_count": 1,
   "metadata": {
    "scrolled": false
   },
   "outputs": [
    {
     "data": {
      "application/vnd.jupyter.widget-view+json": {
       "model_id": "bb2a851b5ff04639babdd9d077fa478d",
       "version_major": 2,
       "version_minor": 0
      },
      "text/plain": [
       "VBox(children=(Button(button_style='warning', description='Best Fit', icon='check', style=ButtonStyle()), Outp…"
      ]
     },
     "metadata": {},
     "output_type": "display_data"
    }
   ],
   "source": [
    "#Imports\n",
    "import sys;\n",
    "sys.path.append('./python/');\n",
    "import widget_BH_clean as widget;\n",
    "%matplotlib inline\n",
    "# Widget Output\n",
    "widget.VBox([widget.button,widget.out,widget.interactive_plot(widget.f)])"
   ]
  },
  {
   "cell_type": "markdown",
   "metadata": {},
   "source": [
    "## Slider Key\n",
    "\n",
    "Black holes are ***MACHOs*** or Massive Compact Halo Objects. They are hard to detect with our present technology, especially if they have small masses. A black hole with the mass of our sun has an event horizon radius of 3 km. \n",
    "\n",
    "The left photo is an arbitrary face-on galaxy (NGC 6814) for a better visualization of the spread of the number of black holes. These dots are not to scale. A solar-mass sized black hole would be so tiny that the only way we would be able to see it is by gravitational microlensing (blackhole passing in front of a star). \n",
    "\n",
    "Increasing the number and mass of each black hole can change the velocities of the stars in a galaxy (velocity curve). \n",
    "There are three sliders that can change the velocity curve of the dark halo. \n",
    "1. ***Number of tiny black holes in the central region***: We need to start with an incredibly high number of tiny black holes to account for the dark matter halo curve. These might be located in the denser region of the galaxy. Starting with merely 10,000, all the way up to 1.5 million tiny black holes, the velocity curve changes drastically.\n",
    "2. ***Number of tiny black holes in the outer region***: This slider makes the fine-tuning easier by letting the user adjust the amount of tiny black holes in the outer less dense region. \n",
    "3. ***Mass of each tiny black hole (in solar masses)***: Starting from 0.1 solar masses, and up to 3.8 solar masses (which is the smallest black hole ever discovered according to https://www.scientificamerican.com/gallery/the-smallest-known-black-hole/), this slider can change the mass of each black hole. \n",
    "\n",
    "All other components (bulge, disk, central supermassive black hole) are fixed because these values (their mass to light ratio) can be measured. "
   ]
  },
  {
   "cell_type": "code",
   "execution_count": null,
   "metadata": {},
   "outputs": [],
   "source": []
  }
 ],
 "metadata": {
  "kernelspec": {
   "display_name": "Python 3",
   "language": "python",
   "name": "python3"
  },
  "language_info": {
   "codemirror_mode": {
    "name": "ipython",
    "version": 3
   },
   "file_extension": ".py",
   "mimetype": "text/x-python",
   "name": "python",
   "nbconvert_exporter": "python",
   "pygments_lexer": "ipython3",
   "version": "3.7.1"
  }
 },
 "nbformat": 4,
 "nbformat_minor": 4
}
