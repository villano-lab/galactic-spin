{
 "cells": [
  {
   "cell_type": "markdown",
   "metadata": {},
   "source": [
    "Please be patient while waiting for the environment to load; it may take a few minutes. \n",
    "Once the notebook has finished loading, in the top bar, select `Kernel`--> `Restart & Run All`. \n",
    "Once cell has finished running, you should see a plot with  sliders appear at the bottom.\n",
    "Enjoy!"
   ]
  },
  {
   "cell_type": "code",
   "execution_count": 1,
   "metadata": {
    "scrolled": false
   },
   "outputs": [
    {
     "data": {
      "application/vnd.jupyter.widget-view+json": {
       "model_id": "4be584648be9445c879215c64924c95c",
       "version_major": 2,
       "version_minor": 0
      },
      "text/plain": [
       "VBox(children=(Button(button_style='warning', description='Best Fit', icon='check', style=ButtonStyle()), Outp…"
      ]
     },
     "metadata": {},
     "output_type": "display_data"
    }
   ],
   "source": [
    "#Imports\n",
    "import sys;\n",
    "sys.path.append('./python/');\n",
    "import w5 as widget;\n",
    "# Widget Output\n",
    "%matplotlib inline\n",
    "widget.VBox([widget.button,widget.out,widget.interactive_plot(widget.f)])"
   ]
  },
  {
   "cell_type": "markdown",
   "metadata": {},
   "source": [
    "# Description\n",
    "## Right Graph:\n",
    "The rotation curve of NGC 7814 (represented by blue data points in the right graph) is emulated after Fraternali et al. (2011) which can be accessed <a href=\"https://arxiv.org/pdf/1105.3867.pdf\">here</a>. The graph to the right represents an interactive rotation curve of NGC 7814 similar to what you can see in our rotation curve widget program, however, in this case all components have been fixed except for the dark matter component (green line), and now it is modeled based on a hypothetical mass distribution of small black holes.\n",
    "## Left Graph:\n",
    "The left graph shows a visual helper of what the rotation curve is physically describing (note that the galaxy image used is NOT of NGC 7814, but a similar spiral galaxy). Here, each dot represents 23 million blackholes (an arbitrary scaling factor). Keep careful watch as you move the sliders to see each \"black hole\" (red dots) change in quantity and size. It's up to you to choose how many black holes (by factors of 23 million) and masses of each black hole in solar masses (1 solar mass = almost $2 × 10^{30}$ kilograms!) to find a \"best fit\" rotation curve, which is to say, a mass distrubtion of black holes that would most closely match real observations.\n",
    "## ... \n",
    "If you wish to see the optimal number and individual masss of theoretical black holes, press the `Best Fit` button at any time. But be creative, there's more than one optimal combination. Enjoy!"
   ]
  },
  {
   "cell_type": "code",
   "execution_count": null,
   "metadata": {},
   "outputs": [],
   "source": []
  }
 ],
 "metadata": {
  "kernelspec": {
   "display_name": "Python 3",
   "language": "python",
   "name": "python3"
  },
  "language_info": {
   "codemirror_mode": {
    "name": "ipython",
    "version": 3
   },
   "file_extension": ".py",
   "mimetype": "text/x-python",
   "name": "python",
   "nbconvert_exporter": "python",
   "pygments_lexer": "ipython3",
   "version": "3.8.3"
  }
 },
 "nbformat": 4,
 "nbformat_minor": 4
}
