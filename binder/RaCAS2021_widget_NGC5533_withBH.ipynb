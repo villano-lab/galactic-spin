{
 "cells": [
  {
   "cell_type": "markdown",
   "metadata": {},
   "source": [
    "Please be patient while waiting for the environment to load; it may take a few minutes. \n",
    "Once the notebook has finished loading, in the top bar, select `Run`. \n",
    "Once cell has finished running, you should see a plot with  sliders appear at the bottom.\n",
    "Enjoy!"
   ]
  },
  {
   "cell_type": "code",
   "execution_count": 1,
   "metadata": {
    "scrolled": false
   },
   "outputs": [
    {
     "data": {
      "application/vnd.jupyter.widget-view+json": {
       "model_id": "89b87f47d13349b08c170d274b5f0732",
       "version_major": 2,
       "version_minor": 0
      },
      "text/plain": [
       "VBox(children=(Button(button_style='warning', description='Best Fit', icon='check', style=ButtonStyle()), Outp…"
      ]
     },
     "metadata": {},
     "output_type": "display_data"
    }
   ],
   "source": [
    "#Imports\n",
    "import sys;\n",
    "sys.path.append('./python/');\n",
    "import widget_BH_clean as widget;\n",
    "%matplotlib inline\n",
    "# Widget Output\n",
    "widget.VBox([widget.button,widget.out,widget.interactive_plot(widget.f)])"
   ]
  },
  {
   "cell_type": "markdown",
   "metadata": {},
   "source": [
    "## Slider Key\n",
    "\n",
    "Black holes are ***MACHOs*** or Massive Compact Halo Objects. They are hard to detect with our present technology, especially if they have small masses. For example, a black hole with the mass of our sun has an event horizon radius of 3 km. A solar-mass sized black hole would be so tiny that the only way we would be able to see it is by gravitational microlensing (blackhole passing in front of a star). \n",
    "\n",
    "The left photo is an arbitrary face-on galaxy (NGC 6814) for a better visualization of the spread of the number of black holes. ***Each dot represents 1 million tiny black holes***. \n",
    "\n",
    "Increasing the number and mass of each black hole can change the velocities of the stars in a galaxy (velocity curve). \n",
    "There are three sliders that can change the velocity curve of the dark halo. \n",
    "1. ***Number of millions of tiny black holes***: We need to start with an incredibly high number of tiny black holes to account for the dark matter halo curve. Starting with merely 50 million, all the way up to 500 million tiny black holes, the velocity curve changes drastically.\n",
    "2. ***Mass of each tiny black hole (in solar masses)***: Starting from 0.1 solar masses, and up to 3.8 solar masses (which is the smallest black hole ever discovered according to https://www.scientificamerican.com/gallery/the-smallest-known-black-hole/), this slider can change the mass of each black hole. \n",
    "3. ***Cutoff radius***: The cutoff radius (also called \"scale radius\") indicates where the density falls off by a factor of e (~2.7). Adjusting this factor changes where the \"bump\" of the curve is located. \n",
    "\n",
    "All other components (bulge, disk, central supermassive black hole) are fixed because these values (their mass to light ratio) can be measured. "
   ]
  },
  {
   "cell_type": "markdown",
   "metadata": {},
   "source": [
    "## References\n",
    "\n",
    "“A Spiral Snowflake.” The European Space Agency, ESA/Hubble &amp; NASA, 9 May 2016, esahubble.org/images/potw1619a/. "
   ]
  },
  {
   "cell_type": "code",
   "execution_count": null,
   "metadata": {},
   "outputs": [],
   "source": []
  }
 ],
 "metadata": {
  "kernelspec": {
   "display_name": "Python 3",
   "language": "python",
   "name": "python3"
  },
  "language_info": {
   "codemirror_mode": {
    "name": "ipython",
    "version": 3
   },
   "file_extension": ".py",
   "mimetype": "text/x-python",
   "name": "python",
   "nbconvert_exporter": "python",
   "pygments_lexer": "ipython3",
   "version": "3.7.1"
  }
 },
 "nbformat": 4,
 "nbformat_minor": 4
}
