{
 "cells": [
  {
   "cell_type": "markdown",
   "metadata": {},
   "source": [
    "Please be patient while waiting for the environment to load; it may take a few minutes. \n",
    "Once the notebook has finished loading, in the top bar, select `Cell`, then choose `Run All`.\n",
    "Once both cells have finished running, you should see a plot with sliders appear at the bottom.\n",
    "Enjoy!"
   ]
  },
  {
   "cell_type": "code",
   "execution_count": 1,
   "metadata": {},
   "outputs": [],
   "source": [
    "#Imports\n",
    "import sys;\n",
    "sys.path.append('./python/');\n",
    "import widget as widget;"
   ]
  },
  {
   "cell_type": "code",
   "execution_count": 2,
   "metadata": {},
   "outputs": [
    {
     "data": {
      "application/vnd.jupyter.widget-view+json": {
       "model_id": "797aa6ae487f4cf18fcd6c34b933ead9",
       "version_major": 2,
       "version_minor": 0
      },
      "text/plain": [
       "VBox(children=(Button(button_style='warning', description='Best Fit', icon='check', style=ButtonStyle()), Outp…"
      ]
     },
     "metadata": {},
     "output_type": "display_data"
    }
   ],
   "source": [
    "# Widget Output\n",
    "widget.VBox([widget.button,widget.out,widget.interactive_plot(widget.f)])"
   ]
  },
  {
   "cell_type": "markdown",
   "metadata": {},
   "source": [
    "## Slider Key\n",
    "\n",
    "The prefactor for the **black hole** is the square root of its mass. \n",
    "Because it is more physically meaningful and not computationally intensive, we have you control the mass of the black hole rather than the prefactor itself.\n",
    "The units of the black hole's mass are solar masses (multiply the value by the mass of our Sun).\n",
    "\n",
    "The prefactors for the **bulge** and the **disk** relate to the mass-to-light ratio.\n",
    "A prefactor of one means that you are using the M/L we generally expect from stars, and increasing the prefactor means increasing the expected mass for a given amount of light. \n",
    "\n",
    "The halo surface density behaves as a prefactor for the **dark matter \"halo\"** in and around the galaxy. \n",
    "Its units are solar masses per cubic parsec. \n",
    "This represents how much dark matter we think there is overall. \n",
    "\n",
    "The **gas** prefactor is similar to the bulge and disk prefactors. \n",
    "Rather than being for a stellar M/L, it representss the amount of radiation emitted by interstellar gas. \n",
    "A value of 1 means using the expected amount of radiation, and increasing the prefactor means increasing the expected mass for a given amount of radiation."
   ]
  }
 ],
 "metadata": {
  "kernelspec": {
   "display_name": "Python 3",
   "language": "python",
   "name": "python3"
  },
  "language_info": {
   "codemirror_mode": {
    "name": "ipython",
    "version": 3
   },
   "file_extension": ".py",
   "mimetype": "text/x-python",
   "name": "python",
   "nbconvert_exporter": "python",
   "pygments_lexer": "ipython3",
   "version": "3.7.4"
  }
 },
 "nbformat": 4,
 "nbformat_minor": 4
}
