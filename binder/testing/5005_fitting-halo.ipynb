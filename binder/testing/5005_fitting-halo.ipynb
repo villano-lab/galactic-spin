{
 "cells": [
  {
   "cell_type": "code",
   "execution_count": 1,
   "metadata": {},
   "outputs": [
    {
     "name": "stdout",
     "output_type": "stream",
     "text": [
      "WARNING: DO NOT USE THE disk.hdf5 OR bulge.hdf5 FILES WITH CALCULATIONS FROM THIS LIBRRY!!!!\n",
      "If you do, DISCARD ALL CHANGES TO THE FILE.\n",
      "Your calculations will NOT be consistent with this library's equations if you use the disk.hdf5 or bulge.hdf5 files,\n",
      "and if you write to that file it will contain calculations based on conflicting constants.\n",
      "Worst case scenario, reset the disk.hdf5 file to before the commit where you used this library to write to it.\n"
     ]
    }
   ],
   "source": [
    "#Imports\n",
    "import sys\n",
    "sys.path.append('../python/')\n",
    "#import NGC5533_functions-newmag as nf\n",
    "\n",
    "import numpy as np\n",
    "import matplotlib.pyplot as plt\n",
    "import scipy.optimize as opt\n",
    "import lmfit as lm\n",
    "import dataPython as dp\n",
    "import scipy.interpolate as inter\n",
    "\n",
    "import NGC5533_functions_newmag as nf\n",
    "#import noordermeer as noord\n",
    "\n",
    "from datetime import datetime\n",
    "import time"
   ]
  },
  {
   "cell_type": "code",
   "execution_count": 2,
   "metadata": {},
   "outputs": [
    {
     "name": "stdout",
     "output_type": "stream",
     "text": [
      "19\n",
      "19\n",
      "1301\n"
     ]
    }
   ],
   "source": [
    "#import data files:\n",
    "starttime = time.time()\n",
    "\n",
    "#TRACING:**************************************\n",
    "#data points:\n",
    "data = dp.getXYdata_wXYerr('../NGC_5005/traced_data/ngc5005_data.txt')\n",
    "r_dat = np.asarray(data['xx'])\n",
    "v_dat = np.asarray(data['yy'])\n",
    "v_err0 = np.asarray(data['ex'])\n",
    "v_err1 = np.asarray(data['ey'])\n",
    "#v_err1=v_err1[:len(v_err1)-1]\n",
    "#r_dat=r_dat[:len(r_dat)-1]\n",
    "#v_dat=v_dat[:len(v_dat)-1]\n",
    "\n",
    "#gas rotmod:\n",
    "gas_rdata = dp.getXYZdata('aygas.dat')\n",
    "rgasr = gas_rdata['xx']\n",
    "rgasv = gas_rdata['zz']\n",
    "rgasv=np.asarray(rgasv)\n",
    "rgasv_spline = inter.InterpolatedUnivariateSpline(rgasr,rgasv,k=5)\n",
    "rgasv_fit = rgasv_spline(r_dat)\n",
    "\n",
    "#make gas array same length as data points array ????? how can I fit without doing this?????\n",
    "#rgasv=rgasv[:len(rgasv)-5]\n",
    "#rgasv=rgasv[0::72]\n",
    "\n",
    "#bulge rotmod:\n",
    "bulge_rdata = dp.getXYZdata('aybulge.dat')\n",
    "rbulger = bulge_rdata['xx']\n",
    "rbulgev = bulge_rdata['zz']\n",
    "rbulgev=np.asarray(rbulgev)\n",
    "#rbulger = [x - 1.15 for x in rbulger]\n",
    "#rbulger=rbulger[:len(rbulger)-5]\n",
    "#rbulger=rbulger[0::72]\n",
    "#rbulgev=rbulgev[:len(rbulgev)-5]\n",
    "#rbulgev=rbulgev[0::72]\n",
    "rbulgev_spline = inter.InterpolatedUnivariateSpline(rbulger,rbulgev,k=5)\n",
    "rbulgev_fit = rbulgev_spline(r_dat)\n",
    "\n",
    "#manually replacing \"peak\" in bulge to true peak\n",
    "#not sure if this makes a difference\n",
    "#rbulger[1] = .58 #.409 from trace\n",
    "#rbulgev[1]=653.7\n",
    "\n",
    "#disk rotmod:\n",
    "disk_rdata = dp.getXYZdata('aydisk.dat')\n",
    "rdiskr = disk_rdata['xx']\n",
    "rdiskv = disk_rdata['zz']\n",
    "rdiskv=np.asarray(rdiskv)\n",
    "#rdiskv=rdiskv[:len(rdiskv)-5]\n",
    "#rdiskv=rdiskv[0::72]\n",
    "rdiskv_spline = inter.InterpolatedUnivariateSpline(rdiskr,rdiskv,k=5)\n",
    "rdiskv_fit = rdiskv_spline(r_dat)\n",
    "\n",
    "#Halo datathief trace:\n",
    "halo_dt = dp.getXYdata('../NGC_5005/datatheif_halo_spline.txt')\n",
    "halo_dtr = halo_dt['xx']\n",
    "halo_dtv = halo_dt['yy']\n",
    "halo_dtv=np.asarray(halo_dtv)\n",
    "#halo_dtv=halo_dtv[:len(halo_dtv)-5]\n",
    "#halo_dtv=halo_dtv[0::6]\n",
    "halo_dtv_spline = inter.InterpolatedUnivariateSpline(halo_dtr,halo_dtv,k=5)\n",
    "halo_dtv_fit = halo_dtv_spline(r_dat)\n",
    "\n",
    "\n",
    "rval = np.linspace(0,12,19)\n",
    "#print(len(rval))\n",
    "#print(len(rbulgev))\n",
    "#print(len(rgasv))\n",
    "#print(len(rdiskv))\n",
    "print(len(v_dat))\n",
    "print(len(rbulgev))\n",
    "print(len(rdiskv))"
   ]
  },
  {
   "cell_type": "code",
   "execution_count": 3,
   "metadata": {},
   "outputs": [],
   "source": [
    "# Fitting function, just prefactors for all the components\n",
    "def g(r,GX,BX,DX,rc,rho00):\n",
    "    return np.sqrt((GX*rgasv_fit)**2 \n",
    "                   + (BX*rbulgev_fit)**2 \n",
    "                   + (DX*rdiskv_fit)**2\n",
    "                   + (nf.h_v(rval,rc,rho00))**2)"
   ]
  },
  {
   "cell_type": "code",
   "execution_count": 4,
   "metadata": {},
   "outputs": [],
   "source": [
    "v_err1=v_err1\n",
    "weighdata=1/v_err1\n",
    "# LMFit\n",
    "\n",
    "#Setup\n",
    "g_mod = lm.Model(g)\n",
    "g_params = g_mod.make_params()\n",
    "#Gas\n",
    "g_params.add('GX', value=.98, min=.98, max=.981) #Mass\n",
    "\n",
    "#Bulge\n",
    "g_params.add('BX', value=0.34238028, min=.34,max=.343)          #Prefactor\n",
    "\n",
    "#Disk\n",
    "g_params.add('DX', value=0.81809787\t, min=.818,max=.819)       #Prefactor\n",
    "#Halo\n",
    "g_params.add('rc', value=2.46270995, min=0)          #Core radius (kpc)\n",
    "g_params.add('rho00', value=1e+08, min=0)     #Central density \n",
    "\n",
    "#Do fit\n",
    "g_fit = g_mod.fit(v_dat,g_params,r=r_dat,weights=weighdata)"
   ]
  },
  {
   "cell_type": "code",
   "execution_count": 5,
   "metadata": {},
   "outputs": [
    {
     "name": "stdout",
     "output_type": "stream",
     "text": [
      "Fit information for all-component fit:\n"
     ]
    },
    {
     "data": {
      "text/html": [
       "<h2> Model</h2> Model(g) <h2>Fit Statistics</h2><table><tr><td>fitting method</td><td>leastsq</td><td></td></tr><tr><td># function evals</td><td>12000</td><td></td></tr><tr><td># data points</td><td>19</td><td></td></tr><tr><td># variables</td><td>5</td><td></td></tr><tr><td>chi-square</td><td> 143.305093</td><td></td></tr><tr><td>reduced chi-square</td><td> 10.2360781</td><td></td></tr><tr><td>Akaike info crit.</td><td> 48.3902010</td><td></td></tr><tr><td>Bayesian info crit.</td><td> 53.1123959</td><td></td></tr></table><h2>Variables</h2><table><tr><th> name </th><th> value </th><th> initial value </th><th> min </th><th> max </th><th> vary </th></tr><tr><td> GX </td><td>  0.98091525 </td><td> 0.98 </td><td>  0.98000000 </td><td>  0.98100000 </td><td> True </td></tr><tr><td> BX </td><td>  0.34200023 </td><td> 0.34238028 </td><td>  0.34000000 </td><td>  0.34300000 </td><td> True </td></tr><tr><td> DX </td><td>  0.81886489 </td><td> 0.81809787 </td><td>  0.81800000 </td><td>  0.81900000 </td><td> True </td></tr><tr><td> rc </td><td>  4.13003042 </td><td> 2.46270995 </td><td>  0.00000000 </td><td>         inf </td><td> True </td></tr><tr><td> rho00 </td><td>  7397.05674 </td><td> 100000000.0 </td><td>  0.00000000 </td><td>         inf </td><td> True </td></tr></table>"
      ],
      "text/plain": [
       "<lmfit.model.ModelResult at 0x1fff9332730>"
      ]
     },
     "execution_count": 5,
     "metadata": {},
     "output_type": "execute_result"
    }
   ],
   "source": [
    "# Define for plotting\n",
    "bestg = g_fit.best_fit\n",
    "#delg = g_fit.eval_uncertainty()\n",
    "print('Fit information for all-component fit:')\n",
    "g_fit"
   ]
  },
  {
   "cell_type": "code",
   "execution_count": 6,
   "metadata": {},
   "outputs": [
    {
     "ename": "ValueError",
     "evalue": "x must be strictly increasing",
     "output_type": "error",
     "traceback": [
      "\u001b[1;31m---------------------------------------------------------------------------\u001b[0m",
      "\u001b[1;31mValueError\u001b[0m                                Traceback (most recent call last)",
      "\u001b[1;32m<ipython-input-6-05c955983257>\u001b[0m in \u001b[0;36m<module>\u001b[1;34m\u001b[0m\n\u001b[0;32m     11\u001b[0m \u001b[1;33m\u001b[0m\u001b[0m\n\u001b[0;32m     12\u001b[0m \u001b[0mbestg\u001b[0m \u001b[1;33m=\u001b[0m \u001b[0mbestg\u001b[0m\u001b[1;33m[\u001b[0m\u001b[0mr_dat\u001b[0m\u001b[1;33m.\u001b[0m\u001b[0margsort\u001b[0m\u001b[1;33m(\u001b[0m\u001b[1;33m)\u001b[0m\u001b[1;33m]\u001b[0m\u001b[1;33m\u001b[0m\u001b[1;33m\u001b[0m\u001b[0m\n\u001b[1;32m---> 13\u001b[1;33m \u001b[0mf_v_T\u001b[0m \u001b[1;33m=\u001b[0m \u001b[0minter\u001b[0m\u001b[1;33m.\u001b[0m\u001b[0mInterpolatedUnivariateSpline\u001b[0m\u001b[1;33m(\u001b[0m\u001b[0mr_dat_andzero\u001b[0m\u001b[1;33m[\u001b[0m\u001b[0midx\u001b[0m\u001b[1;33m%\u001b[0m\u001b[1;36m1\u001b[0m\u001b[1;33m==\u001b[0m\u001b[1;36m0\u001b[0m\u001b[1;33m]\u001b[0m\u001b[1;33m,\u001b[0m \u001b[0mnp\u001b[0m\u001b[1;33m.\u001b[0m\u001b[0mappend\u001b[0m\u001b[1;33m(\u001b[0m\u001b[1;33m[\u001b[0m\u001b[1;36m0\u001b[0m\u001b[1;33m]\u001b[0m\u001b[1;33m,\u001b[0m\u001b[0mbestg\u001b[0m\u001b[1;33m)\u001b[0m\u001b[1;33m[\u001b[0m\u001b[0midx\u001b[0m\u001b[1;33m%\u001b[0m\u001b[1;36m1\u001b[0m\u001b[1;33m==\u001b[0m\u001b[1;36m0\u001b[0m\u001b[1;33m]\u001b[0m\u001b[1;33m,\u001b[0m \u001b[0mk\u001b[0m\u001b[1;33m=\u001b[0m\u001b[1;36m3\u001b[0m\u001b[1;33m)\u001b[0m\u001b[1;33m\u001b[0m\u001b[1;33m\u001b[0m\u001b[0m\n\u001b[0m\u001b[0;32m     14\u001b[0m \u001b[0mf_v_T_v\u001b[0m \u001b[1;33m=\u001b[0m \u001b[0mnp\u001b[0m\u001b[1;33m.\u001b[0m\u001b[0mvectorize\u001b[0m\u001b[1;33m(\u001b[0m\u001b[0mf_v_T\u001b[0m\u001b[1;33m)\u001b[0m\u001b[1;33m\u001b[0m\u001b[1;33m\u001b[0m\u001b[0m\n\u001b[0;32m     15\u001b[0m \u001b[1;33m\u001b[0m\u001b[0m\n",
      "\u001b[1;32m~\\Anaconda3\\lib\\site-packages\\scipy\\interpolate\\fitpack2.py\u001b[0m in \u001b[0;36m__init__\u001b[1;34m(self, x, y, w, bbox, k, ext, check_finite)\u001b[0m\n\u001b[0;32m    621\u001b[0m                                             ext, check_finite)\n\u001b[0;32m    622\u001b[0m         \u001b[1;32mif\u001b[0m \u001b[1;32mnot\u001b[0m \u001b[0mnp\u001b[0m\u001b[1;33m.\u001b[0m\u001b[0mall\u001b[0m\u001b[1;33m(\u001b[0m\u001b[0mdiff\u001b[0m\u001b[1;33m(\u001b[0m\u001b[0mx\u001b[0m\u001b[1;33m)\u001b[0m \u001b[1;33m>\u001b[0m \u001b[1;36m0.0\u001b[0m\u001b[1;33m)\u001b[0m\u001b[1;33m:\u001b[0m\u001b[1;33m\u001b[0m\u001b[1;33m\u001b[0m\u001b[0m\n\u001b[1;32m--> 623\u001b[1;33m             \u001b[1;32mraise\u001b[0m \u001b[0mValueError\u001b[0m\u001b[1;33m(\u001b[0m\u001b[1;34m'x must be strictly increasing'\u001b[0m\u001b[1;33m)\u001b[0m\u001b[1;33m\u001b[0m\u001b[1;33m\u001b[0m\u001b[0m\n\u001b[0m\u001b[0;32m    624\u001b[0m \u001b[1;33m\u001b[0m\u001b[0m\n\u001b[0;32m    625\u001b[0m         \u001b[1;31m# _data == x,y,w,xb,xe,k,s,n,t,c,fp,fpint,nrdata,ier\u001b[0m\u001b[1;33m\u001b[0m\u001b[1;33m\u001b[0m\u001b[1;33m\u001b[0m\u001b[0m\n",
      "\u001b[1;31mValueError\u001b[0m: x must be strictly increasing"
     ]
    }
   ],
   "source": [
    "#smoothing --> creating a spline\n",
    "#print(bestg)\n",
    "\n",
    "rval = np.arange(0,15,0.1)\n",
    "\n",
    "\n",
    "#for total fit curve\n",
    "#r_dat = r_dat[r_dat.argsort()]\n",
    "r_dat_andzero = np.append([0],r_dat)\n",
    "idx = np.arange(0,np.shape(r_dat_andzero)[0])\n",
    "\n",
    "bestg = bestg[r_dat.argsort()]\n",
    "f_v_T = inter.InterpolatedUnivariateSpline(r_dat_andzero[idx%1==0], np.append([0],bestg)[idx%1==0], k=3)\n",
    "f_v_T_v = np.vectorize(f_v_T)\n",
    "\n",
    "\"\"\"\n",
    "#for gas:\n",
    "rgasv = rgasv[rval.argsort()]\n",
    "f_v_G = inter.InterpolatedUnivariateSpline(rval[idx%1==0], rgasv[idx%1==0], k=5)\n",
    "f_v_G_v = np.vectorize(f_v_G)\n",
    "\n",
    "#for disk:\n",
    "rdiskv = rdiskv[rval.argsort()]\n",
    "f_v_D = inter.InterpolatedUnivariateSpline(rval[idx%1==0], rdiskv[idx%1==0], k=5)\n",
    "f_v_D_v = np.vectorize(f_v_D)\n",
    "\n",
    "#for halo:\n",
    "halo_dtv = halo_dtv[rval.argsort()]\n",
    "f_v_H = inter.InterpolatedUnivariateSpline(rval[idx%1==0], halo_dtv[idx%1==0], k=5)\n",
    "f_v_H_v = np.vectorize(f_v_H)\n",
    "\n",
    "#for bulge:\n",
    "rbulgev = rbulgev[rval.argsort()]\n",
    "f_v_B = inter.InterpolatedUnivariateSpline(rval[idx%1==0], rbulgev[idx%1==0], k=5)\n",
    "f_v_B_v = np.vectorize(f_v_B)\n",
    "\"\"\""
   ]
  },
  {
   "cell_type": "code",
   "execution_count": null,
   "metadata": {},
   "outputs": [],
   "source": [
    "# Define for plotting cont.\n",
    "\n",
    "rval = np.arange(0,12,0.1)\n",
    "\n",
    "\n",
    "g_dict = g_fit.best_values\n",
    "g_g = g_dict['GX']\n",
    "g_b = g_dict['BX']\n",
    "g_d = g_dict['DX']\n",
    "g_rc = g_dict['rc']\n",
    "g_rho00 = g_dict['rho00']\n",
    "halo_curve = nf.h_v(rval,g_rc,g_rho00)\n",
    "\n",
    "plt.figure(figsize=(9,6))\n",
    "plt.errorbar(r_dat,v_dat,yerr=v_err1,fmt='bo',label='Data')\n",
    "#plt.plot(rval,f_v_T_v(rval),'k',label='Total Fit')\n",
    "plt.plot(r_dat_andzero,np.append([0],bestg),'k',label='Total Fit')\n",
    "plt.plot(rgasr,g_g*rgasv,label='Fitted Gas')\n",
    "\n",
    "\n",
    "plt.plot(rbulger,g_b*rbulgev,label='Fitted Bulge')\n",
    "#plt.scatter(r_dat,g_b*rbulgev_spline(r_dat),label='Bulge Points') #confusion\n",
    "plt.plot(rval,halo_curve,'r-',label='Halo Analytical')\n",
    "\n",
    "halo_curve=halo_curve[:len(halo_curve)-6]\n",
    "halo_curve=halo_curve[0::6]\n",
    "print(len(halo_curve))\n",
    "print(len(np.append([0],bestg)))\n",
    "plt.plot(rdiskr,g_d*rdiskv,label='Fitted Disk')\n",
    "#plt.plot(halo_dtr,g_h*halo_dtv,label='Fitted Halo')\n",
    "ZZZ=np.append([0],bestg)\n",
    "bary=ZZZ-halo_curve\n",
    "#plt.plot(r_dat_andzero,bary,'m',label='Baryonic (visible) matter')\n",
    "\n",
    "plt.legend(loc='lower right')\n",
    "plt.ylim(0,360)\n",
    "plt.xlim(0,13)\n",
    "plt.show()"
   ]
  },
  {
   "cell_type": "code",
   "execution_count": null,
   "metadata": {},
   "outputs": [],
   "source": []
  },
  {
   "cell_type": "code",
   "execution_count": null,
   "metadata": {},
   "outputs": [],
   "source": []
  }
 ],
 "metadata": {
  "kernelspec": {
   "display_name": "Python 3",
   "language": "python",
   "name": "python3"
  },
  "language_info": {
   "codemirror_mode": {
    "name": "ipython",
    "version": 3
   },
   "file_extension": ".py",
   "mimetype": "text/x-python",
   "name": "python",
   "nbconvert_exporter": "python",
   "pygments_lexer": "ipython3",
   "version": "3.8.3"
  }
 },
 "nbformat": 4,
 "nbformat_minor": 4
}
