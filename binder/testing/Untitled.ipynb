{
 "cells": [
  {
   "cell_type": "code",
   "execution_count": 5,
   "metadata": {},
   "outputs": [
    {
     "ename": "AttributeError",
     "evalue": "module 'geomdl' has no attribute 'exchange'",
     "output_type": "error",
     "traceback": [
      "\u001b[1;31m---------------------------------------------------------------------------\u001b[0m",
      "\u001b[1;31mAttributeError\u001b[0m                            Traceback (most recent call last)",
      "\u001b[1;32m<ipython-input-5-8d6868212383>\u001b[0m in \u001b[0;36m<module>\u001b[1;34m\u001b[0m\n\u001b[0;32m     31\u001b[0m \u001b[1;31m#print(len(f_v_gas_v))\u001b[0m\u001b[1;33m\u001b[0m\u001b[1;33m\u001b[0m\u001b[1;33m\u001b[0m\u001b[0m\n\u001b[0;32m     32\u001b[0m \u001b[1;33m\u001b[0m\u001b[0m\n\u001b[1;32m---> 33\u001b[1;33m \u001b[0mgeomdl\u001b[0m\u001b[1;33m.\u001b[0m\u001b[0mexchange\u001b[0m\u001b[1;33m.\u001b[0m\u001b[0mexport_txt\u001b[0m\u001b[1;33m(\u001b[0m\u001b[0mf_v_gas_v\u001b[0m\u001b[1;33m,\u001b[0m \u001b[0mfile_name\u001b[0m\u001b[1;33m,\u001b[0m \u001b[0mtwo_dimensional\u001b[0m\u001b[1;33m=\u001b[0m\u001b[1;32mFalse\u001b[0m\u001b[1;33m,\u001b[0m \u001b[1;33m**\u001b[0m\u001b[0mkwargs\u001b[0m\u001b[1;33m)\u001b[0m\u001b[1;33m\u001b[0m\u001b[1;33m\u001b[0m\u001b[0m\n\u001b[0m",
      "\u001b[1;31mAttributeError\u001b[0m: module 'geomdl' has no attribute 'exchange'"
     ]
    }
   ],
   "source": [
    "import geomdl\n",
    "#Imports\n",
    "import numpy as np\n",
    "import matplotlib.pyplot as plt\n",
    "import scipy.optimize as opt\n",
    "import lmfit as lm\n",
    "import sys\n",
    "sys.path.append('../python')\n",
    "import dataPython as dp\n",
    "import scipy.interpolate as inter\n",
    "\n",
    "from datetime import datetime\n",
    "import scipy.integrate as si\n",
    "import noordermeer as noord\n",
    "import time\n",
    "data_gas = dp.getXYdata('gas.txt')\n",
    "#traced gas for ngc 5005\n",
    "\n",
    "#convert to numpy arrays for plotting\n",
    "r_gas = np.asarray(data_gas['xx'])\n",
    "v_gas = np.asarray(data_gas['yy'])\n",
    "\n",
    "#smoothing --> creating a spline\n",
    "r_gas = r_gas[r_gas.argsort()]\n",
    "v_gas = v_gas[r_gas.argsort()]\n",
    "idx = np.arange(0,np.shape(r_gas)[0])\n",
    "f_v_gas = inter.InterpolatedUnivariateSpline(r_gas[idx%1==0], v_gas[idx%1==0], k=3)\n",
    "\n",
    "f_v_gas_v = np.vectorize(f_v_gas)\n",
    "#f_v_gas_v=np.asarray(f_v_gas_v)\n",
    "#print(len(f_v_gas_v))\n",
    "\n",
    "geomdl.exchange.export_txt(f_v_gas_v, file_name, two_dimensional=False, **kwargs)"
   ]
  },
  {
   "cell_type": "code",
   "execution_count": null,
   "metadata": {},
   "outputs": [],
   "source": []
  }
 ],
 "metadata": {
  "kernelspec": {
   "display_name": "Python 3",
   "language": "python",
   "name": "python3"
  },
  "language_info": {
   "codemirror_mode": {
    "name": "ipython",
    "version": 3
   },
   "file_extension": ".py",
   "mimetype": "text/x-python",
   "name": "python",
   "nbconvert_exporter": "python",
   "pygments_lexer": "ipython3",
   "version": "3.8.3"
  }
 },
 "nbformat": 4,
 "nbformat_minor": 4
}
