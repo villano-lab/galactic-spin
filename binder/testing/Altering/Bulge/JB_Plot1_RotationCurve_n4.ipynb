{
 "cells": [
  {
   "cell_type": "code",
   "execution_count": 1,
   "metadata": {},
   "outputs": [],
   "source": [
    "import numpy as np\n",
    "import matplotlib as mpl\n",
    "from matplotlib import pyplot as plt\n",
    "import scipy.integrate as integrate\n",
    "from scipy.integrate import quad\n",
    "import scipy.optimize as so\n",
    "import scipy.special as ss\n",
    "              \n",
    "#parameters \n",
    "n = 4.0                                    #concentration parameter that describes the curvature of the profile in a radius-magnitude plot, n=4 is de Vaucoileurs profile\n",
    "re = 1.0                                   #1kpc\n",
    "L = 5.0e9                                  #luminosity\n",
    "\n",
    "#gamma function\n",
    "f = lambda x: ss.gammainc(2*n,x)*ss.gamma(2*n)-0.5*ss.gamma(2*n)\n",
    "bn = so.brentq(f,0,500000,rtol=0.000001,maxiter=100) #come within 1% of exact root within 100 iterations\n",
    "#bn = root\n",
    "\n",
    "I0 = (L*(bn**(2*n)))/(((re**2)*2*np.pi*n)*ss.gamma(2*n)) \n",
    "#I0 = (L*(bn**(2*n)))/((re**2)*2*np.pi*n*(np.exp(bn))*0.5*(ss.gamma(2*n)))\n",
    "\n",
    "r0 = re/bn**n\n",
    "\n",
    "#inner function\n",
    "f = lambda x,m: ((np.exp(-np.power(x/r0, (1/n))))*(np.power(x/r0, ((1/n)-1))))/(np.sqrt((x**2)-(m**2)));"
   ]
  },
  {
   "cell_type": "code",
   "execution_count": 2,
   "metadata": {},
   "outputs": [
    {
     "name": "stdout",
     "output_type": "stream",
     "text": [
      "2.971072527289927e-10\n"
     ]
    }
   ],
   "source": [
    " #integrate inner function\n",
    "g = lambda m: quad(f, m, np.inf,args=(m,))[0]\n",
    "print(g(10))"
   ]
  },
  {
   "cell_type": "code",
   "execution_count": 3,
   "metadata": {},
   "outputs": [
    {
     "data": {
      "image/png": "[encoded data removed]",
      "text/plain": [
       "<Figure size 648x576 with 1 Axes>"
      ]
     },
     "metadata": {
      "needs_background": "light"
     },
     "output_type": "display_data"
    }
   ],
   "source": [
    " #plotting inner integral\n",
    "fig = plt.figure(figsize=(9.0,8.0))                #size of the plot\n",
    "ax = plt.axes()\n",
    "ax.grid(True)\n",
    "ax.yaxis.grid(True,which='minor',linestyle='--')\n",
    "\n",
    "ax.set_yscale('log')\n",
    "x = np.linspace(1, 10, 100)                        #x from/to and line smoothness\n",
    "gv = np.vectorize(g)\n",
    "\n",
    " #curves\n",
    "plt.plot(x, gv(x), linestyle='solid', label='g(\\u03BA)')          \n",
    "\n",
    "#plt.axis('tight');                                #xmin, xmax, ymin, ymax\n",
    "                                                   #or use: plt.xlim(10, 0) plt.ylim(1.2, -1.2);\n",
    "                                                   #or to tighten the bounds: plt.axis('tight')\n",
    "                                                   #or use: plt.axis([0, 15000, 0.5e6, 2.5e6])\n",
    "#labeling plots\n",
    "fig.suptitle('Inner Integral', fontsize=16)\n",
    "ax.set(title='Rotation Curves of Sersic Bulges')          #labeling axes\n",
    "ax.set(xlabel='\\u03BA (kpc)', ylabel='g(\\u03BA)');\n",
    "\n",
    "#plt.legend(fontsize=14);                                      #adding legend"
   ]
  },
  {
   "cell_type": "code",
   "execution_count": 8,
   "metadata": {},
   "outputs": [
    {
     "name": "stderr",
     "output_type": "stream",
     "text": [
      "C:\\ProgramData\\Anaconda3\\lib\\site-packages\\ipykernel_launcher.py:2: IntegrationWarning: The algorithm does not converge.  Roundoff error is detected\n",
      "  in the extrapolation table.  It is assumed that the requested tolerance\n",
      "  cannot be achieved, and that the returned result (if full_output = 1) is \n",
      "  the best which can be obtained.\n",
      "  \n",
      "C:\\ProgramData\\Anaconda3\\lib\\site-packages\\ipykernel_launcher.py:2: IntegrationWarning: The integral is probably divergent, or slowly convergent.\n",
      "  \n",
      "C:\\ProgramData\\Anaconda3\\lib\\site-packages\\ipykernel_launcher.py:20: IntegrationWarning: The maximum number of subdivisions (50) has been achieved.\n",
      "  If increasing the limit yields no improvement it is advised to analyze \n",
      "  the integrand in order to determine the difficulties.  If the position of a \n",
      "  local difficulty can be determined (singularity, discontinuity) one will \n",
      "  probably gain from splitting up the interval and calling the integrator \n",
      "  on the subranges.  Perhaps a special-purpose integrator should be used.\n",
      "C:\\ProgramData\\Anaconda3\\lib\\site-packages\\ipykernel_launcher.py:2: IntegrationWarning: Extremely bad integrand behavior occurs at some points of the\n",
      "  integration interval.\n",
      "  \n"
     ]
    }
   ],
   "source": [
    "#parameters \n",
    "#I_0 = 1.0e12                                       #central surface brightness (20 mag/arcsec^2 = 1.08e3 cd/km^2)\n",
    "G = 4.300e-6                                        #gravitational constant (kpc/solar mass*(km/s)^2)\n",
    "ups = 1                                             #mass-to-light ratio (from Rotation Curves of Sersic Bulges paper)\n",
    "q = 0.33                                            #intrinsic axis ratio\n",
    "i = 45*(np.pi/180)                                  #inclination angle\n",
    "\n",
    "#equations\n",
    "C = (4*G*q*ups*I0)/(r0*np.float(n))*(np.sqrt((np.sin(i)**2)+(1/(q**2))*(np.cos(i)**2)))\n",
    "e2 = 1-(q**2)\n",
    "\n",
    "#plot range\n",
    "x = np.linspace(0.001, 10, 200)\n",
    "\n",
    "#integrate outer function\n",
    "h = lambda m,r: C*g(m)*(m**2)/(np.sqrt((r**2)-((m**2)*(e2))))\n",
    "\n",
    "y = np.zeros(np.shape(x))\n",
    "\n",
    "yr = lambda r: quad(h,0,r,args=(r,))[0]\n",
    "#the indefinite integral is not causing any issues. There must therefore be a value being integrated over that is causing issues.\n",
    "for j,r in enumerate(x):\n",
    "    y[j] = yr(r)\n",
    "\n",
    "#Invalid values in sqrt (h) implying that r**2 is sometimes less than m**2*e2\n",
    "#This leads to runtime issues as well as problems with discontinuities in the integral."
   ]
  },
  {
   "cell_type": "code",
   "execution_count": null,
   "metadata": {},
   "outputs": [],
   "source": [
    "#plotting velocity squared function\n",
    "fig = plt.figure(figsize=(9.0,8.0))                #size of the plot\n",
    "ax2 = plt.axes()\n",
    "ax2.grid(True)\n",
    "ax2.yaxis.grid(True,which='minor',linestyle='--')\n",
    "\n",
    "#x = np.linspace(1, 10, 100)                    #x from/to and line smoothness\n",
    "#lv = np.vectorize(l)\n",
    "\n",
    " #curves\n",
    "#plt.plot(x, lv(x), linestyle='solid', label='Velocity Squared')          \n",
    "plt.plot(x, y, linestyle='solid', label='Velocity Squared')\n",
    "\n",
    "plt.axis('tight');                                 #xmin, xmax, ymin, ymax\n",
    "                                                   #or use: plt.xlim(10, 0) plt.ylim(1.2, -1.2);\n",
    "                                                   #or to tighten the bounds: plt.axis('tight')\n",
    "                                                   #or use: plt.axis('tight')\n",
    "                                                   #plt.axis([0, 15000, 0.5e6, 2.5e6])\n",
    " #labeling plots\n",
    "fig.suptitle('Velocity Squared', fontsize=16)\n",
    "ax2.set(title='Rotation Curves of Sersic Bulges')          #labeling axes\n",
    "ax2.set(xlabel='radius', ylabel='v^2(r)');\n",
    "\n",
    "plt.legend(fontsize=14);                                   #adding legend\n",
    "plt.show()"
   ]
  },
  {
   "cell_type": "code",
   "execution_count": null,
   "metadata": {},
   "outputs": [],
   "source": [
    " #plotting bulge velocity curve\n",
    "\n",
    "fig = plt.figure(figsize=(9.0,8.0))                 #size of the plot\n",
    "ax3 = plt.axes()\n",
    "ax3.grid(True)\n",
    "ax3.yaxis.grid(True,which='minor',linestyle='--')\n",
    "\n",
    " #equation\n",
    "v = np.sqrt(y)\n",
    "\n",
    " #curves\n",
    "plt.plot(x, v, linestyle='solid', label='Velocity(r)')          \n",
    "\n",
    "plt.axis([0, 10, 0, 160]);                         #xmin, xmax, ymin, ymax\n",
    "                                                   #or use: plt.xlim(10, 0) plt.ylim(1.2, -1.2);\n",
    "                                                   #or to tighten the bounds: plt.axis('tight')\n",
    "                                                   #or use: plt.axis('tight')\n",
    "                                                   #plt.axis([0, 15000, 0.5e6, 2.5e6])\n",
    " #labeling plots\n",
    "#ax3.set_ylim(0,np.max(v)*1.3)\n",
    "ax3.set_title('Bulge Rotation Curve', fontsize=18)              #labeling axes\n",
    "ax3.set_xlabel('Radius (kpc)', fontsize=14)\n",
    "ax3.set_ylabel('Velocity (km/s)', fontsize=14)\n",
    "ax3.xaxis.set_tick_params(labelsize=14)\n",
    "ax3.yaxis.set_tick_params(labelsize=14);\n",
    "\n",
    "plt.legend(fontsize=16);                                   #adding legend\n",
    "plt.tight_layout()\n",
    "plt.savefig('Plot1_n4.png')\n",
    "plt.show()"
   ]
  },
  {
   "cell_type": "code",
   "execution_count": null,
   "metadata": {},
   "outputs": [],
   "source": []
  }
 ],
 "metadata": {
  "kernelspec": {
   "display_name": "Python 3",
   "language": "python",
   "name": "python3"
  },
  "language_info": {
   "codemirror_mode": {
    "name": "ipython",
    "version": 3
   },
   "file_extension": ".py",
   "mimetype": "text/x-python",
   "name": "python",
   "nbconvert_exporter": "python",
   "pygments_lexer": "ipython3",
   "version": "3.7.3"
  }
 },
 "nbformat": 4,
 "nbformat_minor": 2
}
