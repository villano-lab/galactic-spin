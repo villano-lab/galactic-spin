{
 "cells": [
  {
   "cell_type": "code",
   "execution_count": 4,
   "metadata": {},
   "outputs": [],
   "source": [
    "import numpy as np\n",
    "import sympy as sym\n",
    "import matplotlib as mpl\n",
    "from matplotlib import pyplot as plt\n",
    "import scipy.integrate as integrate\n",
    "from scipy.integrate import quad, dblquad\n",
    "from scipy.special import ellipe\n",
    "from scipy.special import ellipk\n",
    "\n",
    "G = 4.300e-6                                        #gravitational constant (kpc/solar mass*(km/s)^2)\n",
    "h = 8.9                                           #radial scale-length (kpc) [FOR NGC 5533]\n",
    "#d = 0.99                                            #cut-off length upper limits(kpc)\n",
    "d = 0.2*h\n",
    "mu0 = 1.85e9                                        #central surface density [FOR NGC 5533]\n",
    "z0 = 0.2*h                                          #half-thickness (kpc)\n",
    "R = 4*h                                             #cut-off radius (kpc)\n",
    "\n",
    "#mass distribution\n",
    "rho00 = mu0/(2*z0)\n",
    "\n",
    "def rho0(r, R, h, d):\n",
    "    condlist = [r <= R, (r > R) & (r <= (R+d)), r > (R+d)]\n",
    "    funclist = [lambda r: rho00*np.exp(-r/h), lambda r: rho00*np.exp(-R/h)*(1-((r-R)/d)), lambda r: 0]\n",
    "    return np.piecewise(r, condlist, funclist)\n",
    "\n",
    "rho_rz = lambda r,z: rho0(r, R, h, d)*(np.power(sym.cosh(z/z0), (-2)))\n",
    "\n",
    "intf = lambda r,z: quad(rho_rz, 0, np.inf, args=(r))[0]\n",
    "\n",
    "\n",
    "MAS = ans, err = dblquad(rho_rz, 0, np.inf,\n",
    "                   lambda z: 0,\n",
    "                   lambda z: np.inf)\n",
    "#print(ans)"
   ]
  },
  {
   "cell_type": "code",
   "execution_count": 5,
   "metadata": {},
   "outputs": [
    {
     "name": "stdout",
     "output_type": "stream",
     "text": [
      "125151800000.00006\n"
     ]
    }
   ],
   "source": [
    "    #luminosity                                            \n",
    "L0 = 7.9e9                                                  #units: solar luminosities, from eq15 in Casertano paper\n",
    "\n",
    "x = np.linspace(10, 50, 200)\n",
    "\n",
    "\n",
    "Lrz = lambda r,z: L0*np.exp(-r/h)*(sym.cosh(z/z0))**-2\n",
    "\n",
    "ans, err = dblquad(Lrz, 0, np.inf,\n",
    "                   lambda z: 0,\n",
    "                   lambda z: np.inf)\n",
    "print(ans)"
   ]
  },
  {
   "cell_type": "code",
   "execution_count": 6,
   "metadata": {},
   "outputs": [
    {
     "name": "stdout",
     "output_type": "stream",
     "text": [
      "125151800000.00006\n"
     ]
    }
   ],
   "source": [
    "mu0 = 8096794855.39802/79210000000.0\n",
    "print(ans)"
   ]
  },
  {
   "cell_type": "code",
   "execution_count": null,
   "metadata": {},
   "outputs": [],
   "source": []
  }
 ],
 "metadata": {
  "kernelspec": {
   "display_name": "Python 3",
   "language": "python",
   "name": "python3"
  },
  "language_info": {
   "codemirror_mode": {
    "name": "ipython",
    "version": 3
   },
   "file_extension": ".py",
   "mimetype": "text/x-python",
   "name": "python",
   "nbconvert_exporter": "python",
   "pygments_lexer": "ipython3",
   "version": "3.7.3"
  }
 },
 "nbformat": 4,
 "nbformat_minor": 2
}
