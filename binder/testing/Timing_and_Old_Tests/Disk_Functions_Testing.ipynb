{
 "cells": [
  {
   "cell_type": "code",
   "execution_count": 1,
   "metadata": {},
   "outputs": [],
   "source": [
    "import sys\n",
    "sys.path.append(\"../python/\")\n",
    "from NGC5533_functions import *"
   ]
  },
  {
   "cell_type": "code",
   "execution_count": 2,
   "metadata": {},
   "outputs": [
    {
     "data": {
      "text/plain": [
       "80061849378.99991"
      ]
     },
     "execution_count": 2,
     "metadata": {},
     "output_type": "execute_result"
    }
   ],
   "source": [
    "d_Mdblintrho() #current"
   ]
  },
  {
   "cell_type": "code",
   "execution_count": 8,
   "metadata": {},
   "outputs": [
    {
     "data": {
      "text/plain": [
       "80061849378.99992"
      ]
     },
     "execution_count": 8,
     "metadata": {},
     "output_type": "execute_result"
    }
   ],
   "source": [
    "def newM(h=h_c,d_rho00=drho00_c):    #new limits\n",
    "    rho_rz_r = lambda z,r,h,d_rho00: d_rho_rz(r,z,h,d_rho00)*r\n",
    "    Mintrho = lambda r,h,d_rho00: si.quad(rho_rz_r, -(R(h)+d(h)), R(h)+d(h), args=(r,h,d_rho00))[0]\n",
    "    return si.quad(Mintrho,0,np.inf,args=(h,d_rho00))[0]\n",
    "newM()"
   ]
  },
  {
   "cell_type": "code",
   "execution_count": 4,
   "metadata": {},
   "outputs": [
    {
     "data": {
      "text/plain": [
       "80061849289.37642"
      ]
     },
     "execution_count": 4,
     "metadata": {},
     "output_type": "execute_result"
    }
   ],
   "source": [
    "#original\n",
    "def oldM(h=h_c,d_rho00=drho00_c):    #M double-integral rho\n",
    "    rho_rz_r = lambda z,r,h,d_rho00: d_rho_rz(r,z,h,d_rho00)*r\n",
    "    Mintrho = lambda r,h,d_rho00: si.quad(rho_rz_r, -(125), 125, args=(r,h,d_rho00))[0]\n",
    "    return si.quad(Mintrho,0,125,args=(h,d_rho00))[0]\n",
    "oldM()"
   ]
  },
  {
   "cell_type": "markdown",
   "metadata": {},
   "source": [
    "The \"newM\" code is now the current code, as almost no difference is present in results but it should be more robust to varying h. This version goes up to where the density goes to zero instead of arbitrarily going to 125."
   ]
  },
  {
   "cell_type": "code",
   "execution_count": 12,
   "metadata": {},
   "outputs": [
    {
     "data": {
      "text/plain": [
       "-25163286.69026104"
      ]
     },
     "execution_count": 12,
     "metadata": {},
     "output_type": "execute_result"
    }
   ],
   "source": [
    "#current\n",
    "d_innerintegral(1,1)"
   ]
  },
  {
   "cell_type": "code",
   "execution_count": 14,
   "metadata": {},
   "outputs": [
    {
     "data": {
      "text/plain": [
       "-25163286.69033877"
      ]
     },
     "execution_count": 14,
     "metadata": {},
     "output_type": "execute_result"
    }
   ],
   "source": [
    "def new_innerintegral(u,r,h=h_c,d_rho00=drho00_c):\n",
    "    return u*si.quad(d_innerfunc, 0, R(h)+d(h), args=(r,u,h,d_rho00))[0]\n",
    "\n",
    "new_innerintegral(1,1)"
   ]
  },
  {
   "cell_type": "code",
   "execution_count": 15,
   "metadata": {},
   "outputs": [
    {
     "data": {
      "text/plain": [
       "-25163286.69026104"
      ]
     },
     "execution_count": 15,
     "metadata": {},
     "output_type": "execute_result"
    }
   ],
   "source": [
    "def old_innerintegral(u,r,h=h_c,d_rho00=drho00_c): #Integrate Function\n",
    "    #Matches Casertano, with the exception of the 125 limit due to computing limitations\n",
    "    #u was passed from outerintegral to prevent errors.\n",
    "    return u*si.quad(d_innerfunc, 0, 125, args=(r,u,h,d_rho00))[0]\n",
    "old_innerintegral(1,1)"
   ]
  },
  {
   "cell_type": "markdown",
   "metadata": {},
   "source": [
    "The same changes were made to the d_innerintegral term for the same reasons listed above.\n",
    "\n",
    "Below are graphs of a currently-calculated version of the disk and the saved version of the disk."
   ]
  },
  {
   "cell_type": "code",
   "execution_count": 20,
   "metadata": {},
   "outputs": [
    {
     "name": "stderr",
     "output_type": "stream",
     "text": [
      "../python/NGC5533_functions.py:362: RuntimeWarning: divide by zero encountered in double_scalars\n",
      "  x = lambda r,u,xi: (r**2+u**2+xi**2)/(2*r*u)\n",
      "../python/NGC5533_functions.py:364: RuntimeWarning: invalid value encountered in double_scalars\n",
      "  return x(r,u,xi)-np.sqrt(x(r,u,xi)**2-1)\n",
      "../python/NGC5533_functions.py:411: IntegrationWarning: The occurrence of roundoff error is detected, which prevents \n",
      "  the requested tolerance from being achieved.  The error may be \n",
      "  underestimated.\n",
      "  return u*si.quad(d_innerfunc, 0, R(h)+d(h), args=(r,u,h,d_rho00))[0]\n",
      "../python/NGC5533_functions.py:416: IntegrationWarning: The occurrence of roundoff error is detected, which prevents \n",
      "  the requested tolerance from being achieved.  The error may be \n",
      "  underestimated.\n",
      "  return si.quad(d_innerintegral, 0, np.inf, args=(r,h,d_rho00))[0]\n",
      "../python/NGC5533_functions.py:416: IntegrationWarning: The maximum number of subdivisions (50) has been achieved.\n",
      "  If increasing the limit yields no improvement it is advised to analyze \n",
      "  the integrand in order to determine the difficulties.  If the position of a \n",
      "  local difficulty can be determined (singularity, discontinuity) one will \n",
      "  probably gain from splitting up the interval and calling the integrator \n",
      "  on the subranges.  Perhaps a special-purpose integrator should be used.\n",
      "  return si.quad(d_innerintegral, 0, np.inf, args=(r,h,d_rho00))[0]\n"
     ]
    }
   ],
   "source": [
    "r = np.linspace(0,120)\n",
    "saved = d_v(r,path='../fitting')\n",
    "calc = d_v(r,load=False)"
   ]
  },
  {
   "cell_type": "code",
   "execution_count": 23,
   "metadata": {},
   "outputs": [
    {
     "data": {
      "image/png": "[encoded data removed]",
      "text/plain": [
       "<Figure size 432x288 with 1 Axes>"
      ]
     },
     "metadata": {
      "needs_background": "light"
     },
     "output_type": "display_data"
    }
   ],
   "source": [
    "import matplotlib.pyplot as plt\n",
    "\n",
    "plt.plot(r,saved,label='Saved')\n",
    "plt.plot(r,calc,label='Calculated')\n",
    "plt.legend()\n",
    "\n",
    "plt.show()"
   ]
  }
 ],
 "metadata": {
  "kernelspec": {
   "display_name": "Python 3",
   "language": "python",
   "name": "python3"
  },
  "language_info": {
   "codemirror_mode": {
    "name": "ipython",
    "version": 3
   },
   "file_extension": ".py",
   "mimetype": "text/x-python",
   "name": "python",
   "nbconvert_exporter": "python",
   "pygments_lexer": "ipython3",
   "version": "3.7.4"
  }
 },
 "nbformat": 4,
 "nbformat_minor": 4
}
