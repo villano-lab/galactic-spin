{
 "cells": [
  {
   "cell_type": "code",
   "execution_count": 104,
   "metadata": {},
   "outputs": [],
   "source": [
    "# Imports\n",
    "import sys\n",
    "sys.path.append('../python/')\n",
    "import time as t\n",
    "import numpy as np\n",
    "import scipy as sp\n",
    "import scipy.interpolate as ip\n",
    "import scipy.integrate as i\n",
    "import matplotlib.pyplot as plt\n",
    "import dataPython as dp"
   ]
  },
  {
   "cell_type": "markdown",
   "metadata": {},
   "source": [
    "## Test Timing on Linspace\n",
    "\n",
    "**Results:** Larger arrays take more time to generate. Array minimum and maximum has no significant effect."
   ]
  },
  {
   "cell_type": "code",
   "execution_count": 25,
   "metadata": {},
   "outputs": [
    {
     "name": "stdout",
     "output_type": "stream",
     "text": [
      "0.0\n"
     ]
    }
   ],
   "source": [
    "#Small Array\n",
    "\n",
    "start = t.time()\n",
    "np.linspace(1,10,1)\n",
    "end = t.time()\n",
    "\n",
    "print(end-start)"
   ]
  },
  {
   "cell_type": "code",
   "execution_count": 34,
   "metadata": {},
   "outputs": [
    {
     "name": "stdout",
     "output_type": "stream",
     "text": [
      "0.0009996891021728516\n"
     ]
    }
   ],
   "source": [
    "#Moderate Array\n",
    "\n",
    "start = t.time()\n",
    "np.linspace(1,10,100)\n",
    "end = t.time()\n",
    "\n",
    "print(end-start)"
   ]
  },
  {
   "cell_type": "code",
   "execution_count": 31,
   "metadata": {},
   "outputs": [
    {
     "name": "stdout",
     "output_type": "stream",
     "text": [
      "0.0\n"
     ]
    }
   ],
   "source": [
    "#Moderate Array with Greater Maximum\n",
    "\n",
    "start = t.time()\n",
    "np.linspace(1,100,100)\n",
    "end = t.time()\n",
    "\n",
    "print(end-start)"
   ]
  },
  {
   "cell_type": "code",
   "execution_count": 33,
   "metadata": {},
   "outputs": [
    {
     "name": "stdout",
     "output_type": "stream",
     "text": [
      "0.0\n"
     ]
    }
   ],
   "source": [
    "#Moderate Array with Lower Minimum\n",
    "\n",
    "start = t.time()\n",
    "np.linspace(-10,10,100)\n",
    "end = t.time()\n",
    "\n",
    "print(end-start)"
   ]
  },
  {
   "cell_type": "code",
   "execution_count": 32,
   "metadata": {},
   "outputs": [
    {
     "name": "stdout",
     "output_type": "stream",
     "text": [
      "0.13899564743041992\n"
     ]
    }
   ],
   "source": [
    "#Large Array\n",
    "\n",
    "start = t.time()\n",
    "np.linspace(0,1,10000000)\n",
    "end = t.time()\n",
    "\n",
    "print(end-start)"
   ]
  },
  {
   "cell_type": "markdown",
   "metadata": {},
   "source": [
    "## Test Timing on Quad\n",
    "</br>\n",
    "\n",
    "**Results:**\n",
    "<li>Dblquad generally has lower error than quad.</li>\n",
    "<li>For simple functions (defined in human terms), dblquad and quad have similar times.</li>\n",
    "<li>Without interdependencies, dblquad and quad have similar times.</li>\n",
    "<li>Non-simple functions take longer to run.</li>\n",
    "<li>Similar functions take similar amounts of time regardless of interdependency.</li>\n",
    "<li>For a non-simple function with interdependency, dblquad is much faster than quad.</li>\n",
    "<li>Larger ranges take longer on non-simple functions.</li>\n",
    "STILL TESTING."
   ]
  },
  {
   "cell_type": "code",
   "execution_count": 75,
   "metadata": {},
   "outputs": [],
   "source": [
    "#Functions to Use\n",
    "\n",
    "f = lambda x,y: x**2+y**2\n",
    "g = lambda x,y: np.exp(np.sin(np.cos(x)))**(1/x)*(1/y)**y\n",
    "\n",
    "fx = lambda x: x**2\n",
    "gx = lambda x: x**3\n",
    "\n",
    "gfx = lambda x: fx - gx"
   ]
  },
  {
   "cell_type": "code",
   "execution_count": 76,
   "metadata": {},
   "outputs": [
    {
     "name": "stdout",
     "output_type": "stream",
     "text": [
      "(0.6666666666666669, 7.401486830834379e-15)\n",
      "0.0010006427764892578\n"
     ]
    }
   ],
   "source": [
    "#Use quad twice \n",
    "#no interdependency\n",
    "#simple function\n",
    "#short range\n",
    "\n",
    "start = t.time()\n",
    "\n",
    "I1 = lambda x: i.quad(f,0,1,args=(x,))[0]\n",
    "I2 = i.quad(I1,0,1)\n",
    "print(I2)\n",
    "\n",
    "end = t.time()\n",
    "print(end-start)"
   ]
  },
  {
   "cell_type": "code",
   "execution_count": 77,
   "metadata": {},
   "outputs": [
    {
     "name": "stdout",
     "output_type": "stream",
     "text": [
      "(0.6666666666666669, 1.4754810833321613e-14)\n",
      "0.002000093460083008\n"
     ]
    }
   ],
   "source": [
    "#Use dblquad \n",
    "#no interdependency\n",
    "#simple function\n",
    "#short range\n",
    "\n",
    "start = t.time()\n",
    "\n",
    "I = i.dblquad(f,0,1,0,1)\n",
    "print(I)\n",
    "\n",
    "end = t.time()\n",
    "print(end-start)"
   ]
  },
  {
   "cell_type": "code",
   "execution_count": 78,
   "metadata": {},
   "outputs": [
    {
     "name": "stdout",
     "output_type": "stream",
     "text": [
      "(0.3428571428571428, 3.806478941571964e-15)\n",
      "0.0010004043579101562\n"
     ]
    }
   ],
   "source": [
    "#Use quad twice \n",
    "#with interdependency\n",
    "#simple function\n",
    "#short range\n",
    "\n",
    "start = t.time()\n",
    "\n",
    "I1 = lambda x: i.quad(f,0,1,args=(x**2-x**3,))[0]\n",
    "I2 = i.quad(I1,0,1)\n",
    "print(I2)\n",
    "\n",
    "end = t.time()\n",
    "print(end-start)"
   ]
  },
  {
   "cell_type": "code",
   "execution_count": 79,
   "metadata": {},
   "outputs": [
    {
     "name": "stdout",
     "output_type": "stream",
     "text": [
      "(0.04761904761904763, 1.413989738305241e-15)\n",
      "0.0009613037109375\n"
     ]
    }
   ],
   "source": [
    "#Use dblquad \n",
    "#with interdependency\n",
    "#simple function\n",
    "#short range\n",
    "\n",
    "start = t.time()\n",
    "\n",
    "I = i.dblquad(f,0,1,gx,fx)\n",
    "print(I)\n",
    "\n",
    "end = t.time()\n",
    "print(end-start)\n",
    "\n",
    "# Results aren't the same? Unsure if following syntax. But should be of similar complexities, so I'll move on for now."
   ]
  },
  {
   "cell_type": "code",
   "execution_count": 80,
   "metadata": {},
   "outputs": [
    {
     "name": "stdout",
     "output_type": "stream",
     "text": [
      "(0.6354487733931761, 7.0548985919091765e-15)\n",
      "0.0059964656829833984\n"
     ]
    }
   ],
   "source": [
    "#Use quad twice\n",
    "#no interdependency\n",
    "#non-simple function\n",
    "#short range\n",
    "\n",
    "start = t.time()\n",
    "\n",
    "I1 = lambda x: i.quad(g,1,2,args=(x,))[0]\n",
    "I2 = i.quad(I1,1,2)\n",
    "print(I2)\n",
    "\n",
    "end = t.time()\n",
    "print(end-start)"
   ]
  },
  {
   "cell_type": "code",
   "execution_count": 84,
   "metadata": {},
   "outputs": [
    {
     "name": "stdout",
     "output_type": "stream",
     "text": [
      "(0.6354487733931761, 1.2299447727453188e-14)\n",
      "0.005964756011962891\n"
     ]
    }
   ],
   "source": [
    "#Use dblquad\n",
    "#no interdependency\n",
    "#non-simple function\n",
    "#short range\n",
    "\n",
    "start = t.time()\n",
    "\n",
    "I = i.dblquad(g,1,2,1,2)\n",
    "print(I)\n",
    "\n",
    "end = t.time()\n",
    "print(end-start)"
   ]
  },
  {
   "cell_type": "code",
   "execution_count": 86,
   "metadata": {},
   "outputs": [
    {
     "name": "stdout",
     "output_type": "stream",
     "text": [
      "(5.260378288697257, 3.638422896301563e-11)\n",
      "0.1249990463256836\n"
     ]
    }
   ],
   "source": [
    "#Use quad twice\n",
    "#with interdependency\n",
    "#non-simple function\n",
    "#short range\n",
    "\n",
    "start = t.time()\n",
    "\n",
    "I1 = lambda x: i.quad(g,1,2,args=(x**2-x**3,))[0]\n",
    "I2 = i.quad(I1,1,2)\n",
    "print(I2)\n",
    "\n",
    "end = t.time()\n",
    "print(end-start)"
   ]
  },
  {
   "cell_type": "code",
   "execution_count": 87,
   "metadata": {},
   "outputs": [
    {
     "name": "stdout",
     "output_type": "stream",
     "text": [
      "(-0.5196904757076883, 1.0749544025535486e-08)\n",
      "0.01700615882873535\n"
     ]
    }
   ],
   "source": [
    "#Use dblquad\n",
    "#with interdependency\n",
    "#non-simple function\n",
    "#short range\n",
    "\n",
    "start = t.time()\n",
    "\n",
    "I = i.dblquad(g,1,2,gx,fx)\n",
    "print(I)\n",
    "\n",
    "end = t.time()\n",
    "print(end-start)"
   ]
  },
  {
   "cell_type": "code",
   "execution_count": 88,
   "metadata": {},
   "outputs": [],
   "source": [
    "###\n",
    "\n",
    "\n",
    "#FOr me to see the split while I edit\n",
    "\n",
    "############################"
   ]
  },
  {
   "cell_type": "code",
   "execution_count": null,
   "metadata": {},
   "outputs": [],
   "source": [
    "#"
   ]
  },
  {
   "cell_type": "code",
   "execution_count": 89,
   "metadata": {},
   "outputs": [
    {
     "name": "stdout",
     "output_type": "stream",
     "text": [
      "(666666666666.6666, 0.007401486830834377)\n",
      "0.0010004043579101562\n"
     ]
    }
   ],
   "source": [
    "#Use quad twice \n",
    "#no interdependency\n",
    "#simple function\n",
    "#large range\n",
    "\n",
    "start = t.time()\n",
    "\n",
    "I1 = lambda x: i.quad(f,0,1000,args=(x,))[0]\n",
    "I2 = i.quad(I1,0,1000)\n",
    "print(I2)\n",
    "\n",
    "end = t.time()\n",
    "print(end-start)"
   ]
  },
  {
   "cell_type": "code",
   "execution_count": 90,
   "metadata": {},
   "outputs": [
    {
     "name": "stdout",
     "output_type": "stream",
     "text": [
      "(666666666666.6666, 0.007401486830834377)\n",
      "0.001994609832763672\n"
     ]
    }
   ],
   "source": [
    "#Use dblquad \n",
    "#no interdependency\n",
    "#simple function\n",
    "#large range\n",
    "\n",
    "start = t.time()\n",
    "\n",
    "I = i.dblquad(f,0,1000,0,1000)\n",
    "print(I)\n",
    "\n",
    "end = t.time()\n",
    "print(end-start)"
   ]
  },
  {
   "cell_type": "code",
   "execution_count": 91,
   "metadata": {},
   "outputs": [
    {
     "name": "stdout",
     "output_type": "stream",
     "text": [
      "(1.4252400952414285e+23, 1582334369.355985)\n",
      "0.0020008087158203125\n"
     ]
    }
   ],
   "source": [
    "#Use quad twice \n",
    "#with interdependency\n",
    "#simple function\n",
    "#large range\n",
    "\n",
    "start = t.time()\n",
    "\n",
    "I1 = lambda x: i.quad(f,0,1000,args=(x**2-x**3,))[0]\n",
    "I2 = i.quad(I1,0,1000)\n",
    "print(I2)\n",
    "\n",
    "end = t.time()\n",
    "print(end-start)"
   ]
  },
  {
   "cell_type": "code",
   "execution_count": 92,
   "metadata": {},
   "outputs": [
    {
     "name": "stdout",
     "output_type": "stream",
     "text": [
      "(-3.3333333285880756e+28, 370074341014889.4)\n",
      "0.001001596450805664\n"
     ]
    }
   ],
   "source": [
    "#Use dblquad \n",
    "#with interdependency\n",
    "#simple function\n",
    "#large range\n",
    "\n",
    "start = t.time()\n",
    "\n",
    "I = i.dblquad(f,0,1000,gx,fx)\n",
    "print(I)\n",
    "\n",
    "end = t.time()\n",
    "print(end-start)\n",
    "\n",
    "# Results aren't the same? Unsure if following syntax. But should be of similar complexities, so I'll move on for now."
   ]
  },
  {
   "cell_type": "code",
   "execution_count": 93,
   "metadata": {},
   "outputs": [
    {
     "name": "stderr",
     "output_type": "stream",
     "text": [
      "C:\\ProgramData\\Anaconda3\\lib\\site-packages\\ipykernel_launcher.py:8: IntegrationWarning: The maximum number of subdivisions (50) has been achieved.\n",
      "  If increasing the limit yields no improvement it is advised to analyze \n",
      "  the integrand in order to determine the difficulties.  If the position of a \n",
      "  local difficulty can be determined (singularity, discontinuity) one will \n",
      "  probably gain from splitting up the interval and calling the integrator \n",
      "  on the subranges.  Perhaps a special-purpose integrator should be used.\n",
      "  \n"
     ]
    },
    {
     "name": "stdout",
     "output_type": "stream",
     "text": [
      "(8.992636506209626e-06, 7.945329714501896e-09)\n",
      "1.2423148155212402\n"
     ]
    },
    {
     "name": "stderr",
     "output_type": "stream",
     "text": [
      "C:\\ProgramData\\Anaconda3\\lib\\site-packages\\ipykernel_launcher.py:9: IntegrationWarning: The integral is probably divergent, or slowly convergent.\n",
      "  if __name__ == '__main__':\n"
     ]
    }
   ],
   "source": [
    "#Use quad twice\n",
    "#no interdependency\n",
    "#non-simple function\n",
    "#large range\n",
    "\n",
    "start = t.time()\n",
    "\n",
    "I1 = lambda x: i.quad(g,1,2000,args=(x,))[0]\n",
    "I2 = i.quad(I1,1,2000)\n",
    "print(I2)\n",
    "\n",
    "end = t.time()\n",
    "print(end-start)"
   ]
  },
  {
   "cell_type": "code",
   "execution_count": 94,
   "metadata": {},
   "outputs": [
    {
     "name": "stderr",
     "output_type": "stream",
     "text": [
      "C:\\ProgramData\\Anaconda3\\lib\\site-packages\\scipy\\integrate\\quadpack.py:860: IntegrationWarning: The maximum number of subdivisions (50) has been achieved.\n",
      "  If increasing the limit yields no improvement it is advised to analyze \n",
      "  the integrand in order to determine the difficulties.  If the position of a \n",
      "  local difficulty can be determined (singularity, discontinuity) one will \n",
      "  probably gain from splitting up the interval and calling the integrator \n",
      "  on the subranges.  Perhaps a special-purpose integrator should be used.\n",
      "  **opt)\n"
     ]
    },
    {
     "name": "stdout",
     "output_type": "stream",
     "text": [
      "(8.992636506209626e-06, 0.4007289845969808)\n",
      "1.22694993019104\n"
     ]
    },
    {
     "name": "stderr",
     "output_type": "stream",
     "text": [
      "C:\\ProgramData\\Anaconda3\\lib\\site-packages\\scipy\\integrate\\quadpack.py:860: IntegrationWarning: The integral is probably divergent, or slowly convergent.\n",
      "  **opt)\n"
     ]
    }
   ],
   "source": [
    "#Use dblquad\n",
    "#no interdependency\n",
    "#non-simple function\n",
    "#large range\n",
    "\n",
    "start = t.time()\n",
    "\n",
    "I = i.dblquad(g,1,2000,1,2000)\n",
    "print(I)\n",
    "\n",
    "end = t.time()\n",
    "print(end-start)"
   ]
  },
  {
   "cell_type": "code",
   "execution_count": 95,
   "metadata": {},
   "outputs": [
    {
     "ename": "OverflowError",
     "evalue": "complex exponentiation",
     "output_type": "error",
     "traceback": [
      "\u001b[1;31m---------------------------------------------------------------------------\u001b[0m",
      "\u001b[1;31mOverflowError\u001b[0m                             Traceback (most recent call last)",
      "\u001b[1;32m<ipython-input-95-7ea3ae3e5626>\u001b[0m in \u001b[0;36m<module>\u001b[1;34m\u001b[0m\n\u001b[0;32m      7\u001b[0m \u001b[1;33m\u001b[0m\u001b[0m\n\u001b[0;32m      8\u001b[0m \u001b[0mI1\u001b[0m \u001b[1;33m=\u001b[0m \u001b[1;32mlambda\u001b[0m \u001b[0mx\u001b[0m\u001b[1;33m:\u001b[0m \u001b[0mi\u001b[0m\u001b[1;33m.\u001b[0m\u001b[0mquad\u001b[0m\u001b[1;33m(\u001b[0m\u001b[0mg\u001b[0m\u001b[1;33m,\u001b[0m\u001b[1;36m1\u001b[0m\u001b[1;33m,\u001b[0m\u001b[1;36m2000\u001b[0m\u001b[1;33m,\u001b[0m\u001b[0margs\u001b[0m\u001b[1;33m=\u001b[0m\u001b[1;33m(\u001b[0m\u001b[0mx\u001b[0m\u001b[1;33m**\u001b[0m\u001b[1;36m2\u001b[0m\u001b[1;33m-\u001b[0m\u001b[0mx\u001b[0m\u001b[1;33m**\u001b[0m\u001b[1;36m3\u001b[0m\u001b[1;33m,\u001b[0m\u001b[1;33m)\u001b[0m\u001b[1;33m)\u001b[0m\u001b[1;33m[\u001b[0m\u001b[1;36m0\u001b[0m\u001b[1;33m]\u001b[0m\u001b[1;33m\u001b[0m\u001b[1;33m\u001b[0m\u001b[0m\n\u001b[1;32m----> 9\u001b[1;33m \u001b[0mI2\u001b[0m \u001b[1;33m=\u001b[0m \u001b[0mi\u001b[0m\u001b[1;33m.\u001b[0m\u001b[0mquad\u001b[0m\u001b[1;33m(\u001b[0m\u001b[0mI1\u001b[0m\u001b[1;33m,\u001b[0m\u001b[1;36m1\u001b[0m\u001b[1;33m,\u001b[0m\u001b[1;36m2000\u001b[0m\u001b[1;33m)\u001b[0m\u001b[1;33m\u001b[0m\u001b[1;33m\u001b[0m\u001b[0m\n\u001b[0m\u001b[0;32m     10\u001b[0m \u001b[0mprint\u001b[0m\u001b[1;33m(\u001b[0m\u001b[0mI2\u001b[0m\u001b[1;33m)\u001b[0m\u001b[1;33m\u001b[0m\u001b[1;33m\u001b[0m\u001b[0m\n\u001b[0;32m     11\u001b[0m \u001b[1;33m\u001b[0m\u001b[0m\n",
      "\u001b[1;32mC:\\ProgramData\\Anaconda3\\lib\\site-packages\\scipy\\integrate\\quadpack.py\u001b[0m in \u001b[0;36mquad\u001b[1;34m(func, a, b, args, full_output, epsabs, epsrel, limit, points, weight, wvar, wopts, maxp1, limlst)\u001b[0m\n\u001b[0;32m    339\u001b[0m     \u001b[1;32mif\u001b[0m \u001b[0mweight\u001b[0m \u001b[1;32mis\u001b[0m \u001b[1;32mNone\u001b[0m\u001b[1;33m:\u001b[0m\u001b[1;33m\u001b[0m\u001b[1;33m\u001b[0m\u001b[0m\n\u001b[0;32m    340\u001b[0m         retval = _quad(func, a, b, args, full_output, epsabs, epsrel, limit,\n\u001b[1;32m--> 341\u001b[1;33m                        points)\n\u001b[0m\u001b[0;32m    342\u001b[0m     \u001b[1;32melse\u001b[0m\u001b[1;33m:\u001b[0m\u001b[1;33m\u001b[0m\u001b[1;33m\u001b[0m\u001b[0m\n\u001b[0;32m    343\u001b[0m         retval = _quad_weight(func, a, b, args, full_output, epsabs, epsrel,\n",
      "\u001b[1;32mC:\\ProgramData\\Anaconda3\\lib\\site-packages\\scipy\\integrate\\quadpack.py\u001b[0m in \u001b[0;36m_quad\u001b[1;34m(func, a, b, args, full_output, epsabs, epsrel, limit, points)\u001b[0m\n\u001b[0;32m    446\u001b[0m     \u001b[1;32mif\u001b[0m \u001b[0mpoints\u001b[0m \u001b[1;32mis\u001b[0m \u001b[1;32mNone\u001b[0m\u001b[1;33m:\u001b[0m\u001b[1;33m\u001b[0m\u001b[1;33m\u001b[0m\u001b[0m\n\u001b[0;32m    447\u001b[0m         \u001b[1;32mif\u001b[0m \u001b[0minfbounds\u001b[0m \u001b[1;33m==\u001b[0m \u001b[1;36m0\u001b[0m\u001b[1;33m:\u001b[0m\u001b[1;33m\u001b[0m\u001b[1;33m\u001b[0m\u001b[0m\n\u001b[1;32m--> 448\u001b[1;33m             \u001b[1;32mreturn\u001b[0m \u001b[0m_quadpack\u001b[0m\u001b[1;33m.\u001b[0m\u001b[0m_qagse\u001b[0m\u001b[1;33m(\u001b[0m\u001b[0mfunc\u001b[0m\u001b[1;33m,\u001b[0m\u001b[0ma\u001b[0m\u001b[1;33m,\u001b[0m\u001b[0mb\u001b[0m\u001b[1;33m,\u001b[0m\u001b[0margs\u001b[0m\u001b[1;33m,\u001b[0m\u001b[0mfull_output\u001b[0m\u001b[1;33m,\u001b[0m\u001b[0mepsabs\u001b[0m\u001b[1;33m,\u001b[0m\u001b[0mepsrel\u001b[0m\u001b[1;33m,\u001b[0m\u001b[0mlimit\u001b[0m\u001b[1;33m)\u001b[0m\u001b[1;33m\u001b[0m\u001b[1;33m\u001b[0m\u001b[0m\n\u001b[0m\u001b[0;32m    449\u001b[0m         \u001b[1;32melse\u001b[0m\u001b[1;33m:\u001b[0m\u001b[1;33m\u001b[0m\u001b[1;33m\u001b[0m\u001b[0m\n\u001b[0;32m    450\u001b[0m             \u001b[1;32mreturn\u001b[0m \u001b[0m_quadpack\u001b[0m\u001b[1;33m.\u001b[0m\u001b[0m_qagie\u001b[0m\u001b[1;33m(\u001b[0m\u001b[0mfunc\u001b[0m\u001b[1;33m,\u001b[0m\u001b[0mbound\u001b[0m\u001b[1;33m,\u001b[0m\u001b[0minfbounds\u001b[0m\u001b[1;33m,\u001b[0m\u001b[0margs\u001b[0m\u001b[1;33m,\u001b[0m\u001b[0mfull_output\u001b[0m\u001b[1;33m,\u001b[0m\u001b[0mepsabs\u001b[0m\u001b[1;33m,\u001b[0m\u001b[0mepsrel\u001b[0m\u001b[1;33m,\u001b[0m\u001b[0mlimit\u001b[0m\u001b[1;33m)\u001b[0m\u001b[1;33m\u001b[0m\u001b[1;33m\u001b[0m\u001b[0m\n",
      "\u001b[1;32m<ipython-input-95-7ea3ae3e5626>\u001b[0m in \u001b[0;36m<lambda>\u001b[1;34m(x)\u001b[0m\n\u001b[0;32m      6\u001b[0m \u001b[0mstart\u001b[0m \u001b[1;33m=\u001b[0m \u001b[0mt\u001b[0m\u001b[1;33m.\u001b[0m\u001b[0mtime\u001b[0m\u001b[1;33m(\u001b[0m\u001b[1;33m)\u001b[0m\u001b[1;33m\u001b[0m\u001b[1;33m\u001b[0m\u001b[0m\n\u001b[0;32m      7\u001b[0m \u001b[1;33m\u001b[0m\u001b[0m\n\u001b[1;32m----> 8\u001b[1;33m \u001b[0mI1\u001b[0m \u001b[1;33m=\u001b[0m \u001b[1;32mlambda\u001b[0m \u001b[0mx\u001b[0m\u001b[1;33m:\u001b[0m \u001b[0mi\u001b[0m\u001b[1;33m.\u001b[0m\u001b[0mquad\u001b[0m\u001b[1;33m(\u001b[0m\u001b[0mg\u001b[0m\u001b[1;33m,\u001b[0m\u001b[1;36m1\u001b[0m\u001b[1;33m,\u001b[0m\u001b[1;36m2000\u001b[0m\u001b[1;33m,\u001b[0m\u001b[0margs\u001b[0m\u001b[1;33m=\u001b[0m\u001b[1;33m(\u001b[0m\u001b[0mx\u001b[0m\u001b[1;33m**\u001b[0m\u001b[1;36m2\u001b[0m\u001b[1;33m-\u001b[0m\u001b[0mx\u001b[0m\u001b[1;33m**\u001b[0m\u001b[1;36m3\u001b[0m\u001b[1;33m,\u001b[0m\u001b[1;33m)\u001b[0m\u001b[1;33m)\u001b[0m\u001b[1;33m[\u001b[0m\u001b[1;36m0\u001b[0m\u001b[1;33m]\u001b[0m\u001b[1;33m\u001b[0m\u001b[1;33m\u001b[0m\u001b[0m\n\u001b[0m\u001b[0;32m      9\u001b[0m \u001b[0mI2\u001b[0m \u001b[1;33m=\u001b[0m \u001b[0mi\u001b[0m\u001b[1;33m.\u001b[0m\u001b[0mquad\u001b[0m\u001b[1;33m(\u001b[0m\u001b[0mI1\u001b[0m\u001b[1;33m,\u001b[0m\u001b[1;36m1\u001b[0m\u001b[1;33m,\u001b[0m\u001b[1;36m2000\u001b[0m\u001b[1;33m)\u001b[0m\u001b[1;33m\u001b[0m\u001b[1;33m\u001b[0m\u001b[0m\n\u001b[0;32m     10\u001b[0m \u001b[0mprint\u001b[0m\u001b[1;33m(\u001b[0m\u001b[0mI2\u001b[0m\u001b[1;33m)\u001b[0m\u001b[1;33m\u001b[0m\u001b[1;33m\u001b[0m\u001b[0m\n",
      "\u001b[1;32mC:\\ProgramData\\Anaconda3\\lib\\site-packages\\scipy\\integrate\\quadpack.py\u001b[0m in \u001b[0;36mquad\u001b[1;34m(func, a, b, args, full_output, epsabs, epsrel, limit, points, weight, wvar, wopts, maxp1, limlst)\u001b[0m\n\u001b[0;32m    339\u001b[0m     \u001b[1;32mif\u001b[0m \u001b[0mweight\u001b[0m \u001b[1;32mis\u001b[0m \u001b[1;32mNone\u001b[0m\u001b[1;33m:\u001b[0m\u001b[1;33m\u001b[0m\u001b[1;33m\u001b[0m\u001b[0m\n\u001b[0;32m    340\u001b[0m         retval = _quad(func, a, b, args, full_output, epsabs, epsrel, limit,\n\u001b[1;32m--> 341\u001b[1;33m                        points)\n\u001b[0m\u001b[0;32m    342\u001b[0m     \u001b[1;32melse\u001b[0m\u001b[1;33m:\u001b[0m\u001b[1;33m\u001b[0m\u001b[1;33m\u001b[0m\u001b[0m\n\u001b[0;32m    343\u001b[0m         retval = _quad_weight(func, a, b, args, full_output, epsabs, epsrel,\n",
      "\u001b[1;32mC:\\ProgramData\\Anaconda3\\lib\\site-packages\\scipy\\integrate\\quadpack.py\u001b[0m in \u001b[0;36m_quad\u001b[1;34m(func, a, b, args, full_output, epsabs, epsrel, limit, points)\u001b[0m\n\u001b[0;32m    446\u001b[0m     \u001b[1;32mif\u001b[0m \u001b[0mpoints\u001b[0m \u001b[1;32mis\u001b[0m \u001b[1;32mNone\u001b[0m\u001b[1;33m:\u001b[0m\u001b[1;33m\u001b[0m\u001b[1;33m\u001b[0m\u001b[0m\n\u001b[0;32m    447\u001b[0m         \u001b[1;32mif\u001b[0m \u001b[0minfbounds\u001b[0m \u001b[1;33m==\u001b[0m \u001b[1;36m0\u001b[0m\u001b[1;33m:\u001b[0m\u001b[1;33m\u001b[0m\u001b[1;33m\u001b[0m\u001b[0m\n\u001b[1;32m--> 448\u001b[1;33m             \u001b[1;32mreturn\u001b[0m \u001b[0m_quadpack\u001b[0m\u001b[1;33m.\u001b[0m\u001b[0m_qagse\u001b[0m\u001b[1;33m(\u001b[0m\u001b[0mfunc\u001b[0m\u001b[1;33m,\u001b[0m\u001b[0ma\u001b[0m\u001b[1;33m,\u001b[0m\u001b[0mb\u001b[0m\u001b[1;33m,\u001b[0m\u001b[0margs\u001b[0m\u001b[1;33m,\u001b[0m\u001b[0mfull_output\u001b[0m\u001b[1;33m,\u001b[0m\u001b[0mepsabs\u001b[0m\u001b[1;33m,\u001b[0m\u001b[0mepsrel\u001b[0m\u001b[1;33m,\u001b[0m\u001b[0mlimit\u001b[0m\u001b[1;33m)\u001b[0m\u001b[1;33m\u001b[0m\u001b[1;33m\u001b[0m\u001b[0m\n\u001b[0m\u001b[0;32m    449\u001b[0m         \u001b[1;32melse\u001b[0m\u001b[1;33m:\u001b[0m\u001b[1;33m\u001b[0m\u001b[1;33m\u001b[0m\u001b[0m\n\u001b[0;32m    450\u001b[0m             \u001b[1;32mreturn\u001b[0m \u001b[0m_quadpack\u001b[0m\u001b[1;33m.\u001b[0m\u001b[0m_qagie\u001b[0m\u001b[1;33m(\u001b[0m\u001b[0mfunc\u001b[0m\u001b[1;33m,\u001b[0m\u001b[0mbound\u001b[0m\u001b[1;33m,\u001b[0m\u001b[0minfbounds\u001b[0m\u001b[1;33m,\u001b[0m\u001b[0margs\u001b[0m\u001b[1;33m,\u001b[0m\u001b[0mfull_output\u001b[0m\u001b[1;33m,\u001b[0m\u001b[0mepsabs\u001b[0m\u001b[1;33m,\u001b[0m\u001b[0mepsrel\u001b[0m\u001b[1;33m,\u001b[0m\u001b[0mlimit\u001b[0m\u001b[1;33m)\u001b[0m\u001b[1;33m\u001b[0m\u001b[1;33m\u001b[0m\u001b[0m\n",
      "\u001b[1;32m<ipython-input-75-8efb94ca56c8>\u001b[0m in \u001b[0;36m<lambda>\u001b[1;34m(x, y)\u001b[0m\n\u001b[0;32m      2\u001b[0m \u001b[1;33m\u001b[0m\u001b[0m\n\u001b[0;32m      3\u001b[0m \u001b[0mf\u001b[0m \u001b[1;33m=\u001b[0m \u001b[1;32mlambda\u001b[0m \u001b[0mx\u001b[0m\u001b[1;33m,\u001b[0m\u001b[0my\u001b[0m\u001b[1;33m:\u001b[0m \u001b[0mx\u001b[0m\u001b[1;33m**\u001b[0m\u001b[1;36m2\u001b[0m\u001b[1;33m+\u001b[0m\u001b[0my\u001b[0m\u001b[1;33m**\u001b[0m\u001b[1;36m2\u001b[0m\u001b[1;33m\u001b[0m\u001b[1;33m\u001b[0m\u001b[0m\n\u001b[1;32m----> 4\u001b[1;33m \u001b[0mg\u001b[0m \u001b[1;33m=\u001b[0m \u001b[1;32mlambda\u001b[0m \u001b[0mx\u001b[0m\u001b[1;33m,\u001b[0m\u001b[0my\u001b[0m\u001b[1;33m:\u001b[0m \u001b[0mnp\u001b[0m\u001b[1;33m.\u001b[0m\u001b[0mexp\u001b[0m\u001b[1;33m(\u001b[0m\u001b[0mnp\u001b[0m\u001b[1;33m.\u001b[0m\u001b[0msin\u001b[0m\u001b[1;33m(\u001b[0m\u001b[0mnp\u001b[0m\u001b[1;33m.\u001b[0m\u001b[0mcos\u001b[0m\u001b[1;33m(\u001b[0m\u001b[0mx\u001b[0m\u001b[1;33m)\u001b[0m\u001b[1;33m)\u001b[0m\u001b[1;33m)\u001b[0m\u001b[1;33m**\u001b[0m\u001b[1;33m(\u001b[0m\u001b[1;36m1\u001b[0m\u001b[1;33m/\u001b[0m\u001b[0mx\u001b[0m\u001b[1;33m)\u001b[0m\u001b[1;33m*\u001b[0m\u001b[1;33m(\u001b[0m\u001b[1;36m1\u001b[0m\u001b[1;33m/\u001b[0m\u001b[0my\u001b[0m\u001b[1;33m)\u001b[0m\u001b[1;33m**\u001b[0m\u001b[0my\u001b[0m\u001b[1;33m\u001b[0m\u001b[1;33m\u001b[0m\u001b[0m\n\u001b[0m\u001b[0;32m      5\u001b[0m \u001b[1;33m\u001b[0m\u001b[0m\n\u001b[0;32m      6\u001b[0m \u001b[0mfx\u001b[0m \u001b[1;33m=\u001b[0m \u001b[1;32mlambda\u001b[0m \u001b[0mx\u001b[0m\u001b[1;33m:\u001b[0m \u001b[0mx\u001b[0m\u001b[1;33m**\u001b[0m\u001b[1;36m2\u001b[0m\u001b[1;33m\u001b[0m\u001b[1;33m\u001b[0m\u001b[0m\n",
      "\u001b[1;31mOverflowError\u001b[0m: complex exponentiation"
     ]
    }
   ],
   "source": [
    "#Use quad twice\n",
    "#with interdependency\n",
    "#non-simple function\n",
    "#large range\n",
    "\n",
    "start = t.time()\n",
    "\n",
    "I1 = lambda x: i.quad(g,1,2000,args=(x**2-x**3,))[0]\n",
    "I2 = i.quad(I1,1,2000)\n",
    "print(I2)\n",
    "\n",
    "end = t.time()\n",
    "print(end-start)"
   ]
  },
  {
   "cell_type": "code",
   "execution_count": 96,
   "metadata": {},
   "outputs": [
    {
     "name": "stdout",
     "output_type": "stream",
     "text": [
      "(4.030123290037915e-05, 1.411714705912875e-08)\n",
      "0.17000579833984375\n"
     ]
    }
   ],
   "source": [
    "#Use dblquad\n",
    "#with interdependency\n",
    "#non-simple function\n",
    "#large range\n",
    "\n",
    "start = t.time()\n",
    "\n",
    "I = i.dblquad(g,1,2000,gx,fx)\n",
    "print(I)\n",
    "\n",
    "end = t.time()\n",
    "print(end-start)"
   ]
  },
  {
   "cell_type": "code",
   "execution_count": 97,
   "metadata": {},
   "outputs": [],
   "source": [
    "######nother blank cell"
   ]
  },
  {
   "cell_type": "code",
   "execution_count": null,
   "metadata": {},
   "outputs": [],
   "source": [
    "######Haven't set these infinite yet"
   ]
  },
  {
   "cell_type": "code",
   "execution_count": 76,
   "metadata": {},
   "outputs": [
    {
     "name": "stdout",
     "output_type": "stream",
     "text": [
      "(0.6666666666666669, 7.401486830834379e-15)\n",
      "0.0010006427764892578\n"
     ]
    }
   ],
   "source": [
    "#Use quad twice \n",
    "#no interdependency\n",
    "#simple function\n",
    "#infinite range\n",
    "\n",
    "start = t.time()\n",
    "\n",
    "I1 = lambda x: i.quad(f,0,1,args=(x,))[0]\n",
    "I2 = i.quad(I1,0,1)\n",
    "print(I2)\n",
    "\n",
    "end = t.time()\n",
    "print(end-start)"
   ]
  },
  {
   "cell_type": "code",
   "execution_count": 77,
   "metadata": {},
   "outputs": [
    {
     "name": "stdout",
     "output_type": "stream",
     "text": [
      "(0.6666666666666669, 1.4754810833321613e-14)\n",
      "0.002000093460083008\n"
     ]
    }
   ],
   "source": [
    "#Use dblquad \n",
    "#no interdependency\n",
    "#simple function\n",
    "#infinite range\n",
    "\n",
    "start = t.time()\n",
    "\n",
    "I = i.dblquad(f,0,1,0,1)\n",
    "print(I)\n",
    "\n",
    "end = t.time()\n",
    "print(end-start)"
   ]
  },
  {
   "cell_type": "code",
   "execution_count": 78,
   "metadata": {},
   "outputs": [
    {
     "name": "stdout",
     "output_type": "stream",
     "text": [
      "(0.3428571428571428, 3.806478941571964e-15)\n",
      "0.0010004043579101562\n"
     ]
    }
   ],
   "source": [
    "#Use quad twice \n",
    "#with interdependency\n",
    "#simple function\n",
    "#infinite range\n",
    "\n",
    "start = t.time()\n",
    "\n",
    "I1 = lambda x: i.quad(f,0,1,args=(x**2-x**3,))[0]\n",
    "I2 = i.quad(I1,0,1)\n",
    "print(I2)\n",
    "\n",
    "end = t.time()\n",
    "print(end-start)"
   ]
  },
  {
   "cell_type": "code",
   "execution_count": 79,
   "metadata": {},
   "outputs": [
    {
     "name": "stdout",
     "output_type": "stream",
     "text": [
      "(0.04761904761904763, 1.413989738305241e-15)\n",
      "0.0009613037109375\n"
     ]
    }
   ],
   "source": [
    "#Use dblquad \n",
    "#with interdependency\n",
    "#simple function\n",
    "#infinite range\n",
    "\n",
    "start = t.time()\n",
    "\n",
    "I = i.dblquad(f,0,1,gx,fx)\n",
    "print(I)\n",
    "\n",
    "end = t.time()\n",
    "print(end-start)\n",
    "\n",
    "# Results aren't the same? Unsure if following syntax. But should be of similar complexities, so I'll move on for now."
   ]
  },
  {
   "cell_type": "code",
   "execution_count": 80,
   "metadata": {},
   "outputs": [
    {
     "name": "stdout",
     "output_type": "stream",
     "text": [
      "(0.6354487733931761, 7.0548985919091765e-15)\n",
      "0.0059964656829833984\n"
     ]
    }
   ],
   "source": [
    "#Use quad twice\n",
    "#no interdependency\n",
    "#non-simple function\n",
    "#infinite range\n",
    "\n",
    "start = t.time()\n",
    "\n",
    "I1 = lambda x: i.quad(g,1,2,args=(x,))[0]\n",
    "I2 = i.quad(I1,1,2)\n",
    "print(I2)\n",
    "\n",
    "end = t.time()\n",
    "print(end-start)"
   ]
  },
  {
   "cell_type": "code",
   "execution_count": 84,
   "metadata": {},
   "outputs": [
    {
     "name": "stdout",
     "output_type": "stream",
     "text": [
      "(0.6354487733931761, 1.2299447727453188e-14)\n",
      "0.005964756011962891\n"
     ]
    }
   ],
   "source": [
    "#Use dblquad\n",
    "#no interdependency\n",
    "#non-simple function\n",
    "#infinite range\n",
    "\n",
    "start = t.time()\n",
    "\n",
    "I = i.dblquad(g,1,2,1,2)\n",
    "print(I)\n",
    "\n",
    "end = t.time()\n",
    "print(end-start)"
   ]
  },
  {
   "cell_type": "code",
   "execution_count": 86,
   "metadata": {},
   "outputs": [
    {
     "name": "stdout",
     "output_type": "stream",
     "text": [
      "(5.260378288697257, 3.638422896301563e-11)\n",
      "0.1249990463256836\n"
     ]
    }
   ],
   "source": [
    "#Use quad twice\n",
    "#with interdependency\n",
    "#non-simple function\n",
    "#infnite range\n",
    "\n",
    "start = t.time()\n",
    "\n",
    "I1 = lambda x: i.quad(g,1,2,args=(x**2-x**3,))[0]\n",
    "I2 = i.quad(I1,1,2)\n",
    "print(I2)\n",
    "\n",
    "end = t.time()\n",
    "print(end-start)"
   ]
  },
  {
   "cell_type": "code",
   "execution_count": 1,
   "metadata": {},
   "outputs": [
    {
     "ename": "NameError",
     "evalue": "name 't' is not defined",
     "output_type": "error",
     "traceback": [
      "\u001b[1;31m---------------------------------------------------------------------------\u001b[0m",
      "\u001b[1;31mNameError\u001b[0m                                 Traceback (most recent call last)",
      "\u001b[1;32m<ipython-input-1-5d52ac78a978>\u001b[0m in \u001b[0;36m<module>\u001b[1;34m\u001b[0m\n\u001b[0;32m      4\u001b[0m \u001b[1;31m#infinite range\u001b[0m\u001b[1;33m\u001b[0m\u001b[1;33m\u001b[0m\u001b[1;33m\u001b[0m\u001b[0m\n\u001b[0;32m      5\u001b[0m \u001b[1;33m\u001b[0m\u001b[0m\n\u001b[1;32m----> 6\u001b[1;33m \u001b[0mstart\u001b[0m \u001b[1;33m=\u001b[0m \u001b[0mt\u001b[0m\u001b[1;33m.\u001b[0m\u001b[0mtime\u001b[0m\u001b[1;33m(\u001b[0m\u001b[1;33m)\u001b[0m\u001b[1;33m\u001b[0m\u001b[1;33m\u001b[0m\u001b[0m\n\u001b[0m\u001b[0;32m      7\u001b[0m \u001b[1;33m\u001b[0m\u001b[0m\n\u001b[0;32m      8\u001b[0m \u001b[0mI\u001b[0m \u001b[1;33m=\u001b[0m \u001b[0mi\u001b[0m\u001b[1;33m.\u001b[0m\u001b[0mdblquad\u001b[0m\u001b[1;33m(\u001b[0m\u001b[0mg\u001b[0m\u001b[1;33m,\u001b[0m\u001b[1;36m1\u001b[0m\u001b[1;33m,\u001b[0m\u001b[1;36m2\u001b[0m\u001b[1;33m,\u001b[0m\u001b[0mgx\u001b[0m\u001b[1;33m,\u001b[0m\u001b[0mfx\u001b[0m\u001b[1;33m)\u001b[0m\u001b[1;33m\u001b[0m\u001b[1;33m\u001b[0m\u001b[0m\n",
      "\u001b[1;31mNameError\u001b[0m: name 't' is not defined"
     ]
    }
   ],
   "source": [
    "#Use dblquad\n",
    "#with interdependency\n",
    "#non-simple function\n",
    "#infinite range\n",
    "\n",
    "start = t.time()\n",
    "\n",
    "I = i.dblquad(g,1,2,gx,fx)\n",
    "print(I)\n",
    "\n",
    "end = t.time()\n",
    "print(end-start)"
   ]
  },
  {
   "cell_type": "markdown",
   "metadata": {},
   "source": [
    "## White Space\n",
    "\n",
    "**Results:** Reasonable amounts of blank space and comments make no discernable difference."
   ]
  },
  {
   "cell_type": "code",
   "execution_count": 43,
   "metadata": {},
   "outputs": [
    {
     "name": "stdout",
     "output_type": "stream",
     "text": [
      "0.0\n"
     ]
    }
   ],
   "source": [
    "start = t.time()\n",
    "end = t.time()\n",
    "print(end-start)"
   ]
  },
  {
   "cell_type": "markdown",
   "metadata": {},
   "source": [
    "## Multiple Cells\n",
    "\n",
    "**Results:** 2 cells take approximately twice as long to run as one, even when they are equivalent to the one and the \"Run selected cells\" function is used to eliminate user reaction time.\n",
    "</br>*Only tested with simple cells.*"
   ]
  },
  {
   "cell_type": "code",
   "execution_count": 38,
   "metadata": {},
   "outputs": [],
   "source": [
    "start = t.time()\n",
    "\n",
    "f = lambda x: x**2"
   ]
  },
  {
   "cell_type": "code",
   "execution_count": 39,
   "metadata": {},
   "outputs": [
    {
     "name": "stdout",
     "output_type": "stream",
     "text": [
      "(0.33333333333333337, 3.700743415417189e-15)\n",
      "0.02102804183959961\n"
     ]
    }
   ],
   "source": [
    "print(i.quad(f,0,1))\n",
    "\n",
    "end = t.time()\n",
    "print(end-start)"
   ]
  },
  {
   "cell_type": "code",
   "execution_count": 40,
   "metadata": {},
   "outputs": [
    {
     "name": "stdout",
     "output_type": "stream",
     "text": [
      "(0.33333333333333337, 3.700743415417189e-15)\n",
      "0.001001119613647461\n"
     ]
    }
   ],
   "source": [
    "start = t.time()\n",
    "\n",
    "f = lambda x: x**2\n",
    "print(i.quad(f,0,1))\n",
    "\n",
    "end = t.time()\n",
    "print(end-start)"
   ]
  },
  {
   "cell_type": "markdown",
   "metadata": {},
   "source": [
    "## Splining vs Data Points\n",
    "*This is also to check understanding of splines.*</br>\n",
    "**Results:** \n",
    "<li>Spline is not visibly smoother than normal data.</li>\n",
    "<li>No particular need to spline, but it isn't excessively bogging down the code.</li>\n",
    "<li>Vectorizing adds significant amounts of time to plotting.</li>"
   ]
  },
  {
   "cell_type": "code",
   "execution_count": 73,
   "metadata": {},
   "outputs": [],
   "source": [
    "#fakedata\n",
    "x = [1,2,3,4,5,6,7,8,9]\n",
    "y = [5,16,5,5,8,28,46,17,0.1]"
   ]
  },
  {
   "cell_type": "code",
   "execution_count": 74,
   "metadata": {},
   "outputs": [],
   "source": [
    "f = ip.InterpolatedUnivariateSpline(x,y)"
   ]
  },
  {
   "cell_type": "code",
   "execution_count": 75,
   "metadata": {},
   "outputs": [
    {
     "data": {
      "text/plain": [
       "[<matplotlib.lines.Line2D at 0x1980e4e2c50>]"
      ]
     },
     "execution_count": 75,
     "metadata": {},
     "output_type": "execute_result"
    },
    {
     "data": {
      "image/png": "[encoded data removed]",
      "text/plain": [
       "<Figure size 432x288 with 1 Axes>"
      ]
     },
     "metadata": {
      "needs_background": "light"
     },
     "output_type": "display_data"
    }
   ],
   "source": [
    "plt.plot(x,y,'k-',linewidth='5')\n",
    "plt.plot(x,f(x),'b-')\n",
    "plt.plot(x,np.vectorize(f)(x),'ro')"
   ]
  },
  {
   "cell_type": "code",
   "execution_count": 143,
   "metadata": {},
   "outputs": [
    {
     "data": {
      "text/plain": [
       "[<matplotlib.lines.Line2D at 0x19810faac18>]"
      ]
     },
     "execution_count": 143,
     "metadata": {},
     "output_type": "execute_result"
    },
    {
     "data": {
      "image/png": "[encoded data removed]",
      "text/plain": [
       "<Figure size 432x288 with 1 Axes>"
      ]
     },
     "metadata": {
      "needs_background": "light"
     },
     "output_type": "display_data"
    }
   ],
   "source": [
    "#Setup necessary for all options. Time: 3ms\n",
    "data_bh = dp.getXYdata('../NGC5533/NGC5533-blackhole_fmt.txt')\n",
    "\n",
    "r_bh = np.asarray(data_bh['xx'])\n",
    "v_bh = np.asarray(data_bh['yy'])\n",
    "\n",
    "#####setup necessary for f_v_bh. Time: <1ms\n",
    "xmax=19\n",
    "x = np.arange(0,xmax,0.1)\n",
    "\n",
    "idx = np.arange(0,np.shape(r_bh)[0])\n",
    "f_v_bh = ip.InterpolatedUnivariateSpline(r_bh[idx%1==0], v_bh[idx%1==0],)\n",
    "\n",
    "####Actual plotting\n",
    "#plt.plot(r_bh, np.vectorize(f_v_bh)(r_bh), 'bo') #time: 25ms (total: 29ms)\n",
    "plt.plot(r_bh, f_v_bh(r_bh), 'bo')                      #time: 5ms (total: 9ms)\n",
    "plt.plot(r_bh,v_bh,color='gold',linewidth=1,linestyle='-')                                  #time: 3ms (total: 8ms)"
   ]
  },
  {
   "cell_type": "code",
   "execution_count": 135,
   "metadata": {},
   "outputs": [
    {
     "name": "stdout",
     "output_type": "stream",
     "text": [
      "{'xx': [0.1181, 0.1417, 0.1653, 0.2006, 0.2125, 0.2361, 0.2479, 0.2715, 0.3424, 0.4014, 0.4841, 0.6139, 0.7438, 0.9209, 1.098, 1.3105, 1.5348, 1.7473, 2.0425, 2.314, 2.6328, 2.9516, 3.2468, 3.5419, 3.8725, 4.1795, 4.51, 4.8996, 5.2656, 5.6198, 5.9622, 6.3046, 6.6352, 6.9303, 7.2609, 7.6151, 7.9575, 8.2999, 8.6068, 8.9492, 9.2798, 9.6221, 10.0118, 10.4368, 10.8618, 11.2869, 11.7119, 12.1842, 12.6564, 13.1287, 13.6009, 14.026, 14.4746, 14.9468, 15.4191, 15.9386, 16.4344, 16.8831, 17.3317, 17.7804, 18.2054, 18.6305, 19.0319, 19.4569, 19.8347], 'yy': [307.3345, 298.4243, 288.8283, 265.1773, 251.465, 231.9262, 217.1854, 203.1323, 184.9729, 168.8688, 151.3973, 135.6481, 121.2704, 108.9579, 98.7025, 89.8247, 83.3488, 77.8995, 71.093, 66.6824, 62.2799, 58.2203, 55.1852, 52.4929, 50.1496, 47.8022, 45.8016, 44.1542, 42.5027, 41.192, 39.8792, 38.5665, 37.5946, 36.6166, 35.6447, 35.0197, 34.3927, 33.7657, 33.1326, 32.5056, 31.5337, 31.2495, 30.9735, 30.3606, 29.7477, 29.1349, 28.522, 27.2316, 26.6268, 26.0221, 25.4173, 24.8045, 24.1956, 23.5909, 23.6719, 23.0752, 23.1602, 22.5514, 21.9426, 22.0195, 21.4066, 21.4795, 20.8626, 20.9355, 21.0002]}\n"
     ]
    }
   ],
   "source": [
    "data=np.array(data_bh)\n",
    "print(data)"
   ]
  },
  {
   "cell_type": "raw",
   "metadata": {},
   "source": []
  },
  {
   "cell_type": "code",
   "execution_count": null,
   "metadata": {},
   "outputs": [],
   "source": []
  },
  {
   "cell_type": "code",
   "execution_count": null,
   "metadata": {},
   "outputs": [],
   "source": []
  }
 ],
 "metadata": {
  "kernelspec": {
   "display_name": "Python 3",
   "language": "python",
   "name": "python3"
  },
  "language_info": {
   "codemirror_mode": {
    "name": "ipython",
    "version": 3
   },
   "file_extension": ".py",
   "mimetype": "text/x-python",
   "name": "python",
   "nbconvert_exporter": "python",
   "pygments_lexer": "ipython3",
   "version": "3.7.3"
  }
 },
 "nbformat": 4,
 "nbformat_minor": 2
}
