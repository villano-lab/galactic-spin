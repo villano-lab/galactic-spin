{
 "cells": [
  {
   "cell_type": "markdown",
   "metadata": {},
   "source": [
    "# Creating and Plotting a Curve Fit"
   ]
  },
  {
   "cell_type": "code",
   "execution_count": 1,
   "metadata": {},
   "outputs": [],
   "source": [
    "#Imports\n",
    "import numpy as np\n",
    "import matplotlib.pyplot as plt\n",
    "import scipy.optimize as opt\n",
    "import lmfit as lf"
   ]
  },
  {
   "cell_type": "markdown",
   "metadata": {},
   "source": [
    "### Setup\n",
    "\n",
    "Let's set up a simple function *y = f(x) = x<sup>2</sup>*.\n",
    "\n",
    "We'll set up some fake data for this function and fit it using non-linear least squares.</br>\n",
    "This fit will be done using the same method, but in two different python libraries.</br>\n",
    "At the end, we'll compare the function, the data, and the fits that we made."
   ]
  },
  {
   "cell_type": "code",
   "execution_count": null,
   "metadata": {},
   "outputs": [],
   "source": [
    "#Setup - y = f(x) = x^2\n",
    "\n",
    "#Fakedata\n",
    "xdata = np.linspace(0,5,50)                 #Generate x-values\n",
    "ydata = np.zeros(len(xdata))                #Create array to define later\n",
    "noise = np.random.normal(0,1,len(xdata))    #Create nosie to add to y-values; otherwise our fits will be to unrealistic data\n",
    "for i,n in enumerate(xdata):                #Redefine y-data to be:\n",
    "    ydata[i] = n**2+noise[i]                #x^2 plus some noise.\n",
    "sigdata = np.ones(len(xdata))               #Sigma is 1 since that's the width of the noise distribution\n",
    "\n",
    "#Function\n",
    "def f(x,a,b,c):          #Independent variable must be listed first for scipy to know how to fit it.\n",
    "    return a*x**2+b*x+c  #In python, anything unset must be listed as a variable in the function, including the parameters we fit for.\n",
    "\n",
    "#Points representing function - this is necessary to plot f(x) for our comparison.\n",
    "ycurve = xdata**2 \n",
    "\n",
    "#Initial Guesses for a,b,c. In this case, our initial guess is the true function.\n",
    "p0 = [1,0,0] #Parameters should be in the same order here as they were when we defined our function."
   ]
  },
  {
   "cell_type": "markdown",
   "metadata": {},
   "source": [
    "### scipy.optimize\n",
    "\n",
    "One of the big advantages of using SciPy is that it is fairly common -- people trying to fit data likely already have it installed, and it may even already be used in the code they're using for data analysis."
   ]
  },
  {
   "cell_type": "code",
   "execution_count": 11,
   "metadata": {},
   "outputs": [
    {
     "name": "stdout",
     "output_type": "stream",
     "text": [
      "a: 1.1150977200981227 ± 0.07296221014634245\n",
      "b: -0.6421735231586962 ± 0.3772408184228598\n",
      "c: 0.8444449062674305 ± 0.40784168626565265\n"
     ]
    }
   ],
   "source": [
    "#Do fit\n",
    "s_fit = opt.curve_fit(f,xdata,ydata,p0,sigma=sigdata,absolute_sigma=True) #absolute_sigma is set so that uncertainties aren't treated as percentages.\n",
    "#print(s_fit) #If we uncomment this line, we see that s_fit is an array containing two arrays.\n",
    "\n",
    "#Define parameters from fit. Our parameters are stored in the first array in our fit output, in the order they were listed in f.\n",
    "s_a = s_fit[0][0]\n",
    "s_b = s_fit[0][1]\n",
    "s_c = s_fit[0][2]\n",
    "\n",
    "#Define error from fit.\n",
    "s_cov = s_fit[1]                    #The second array in the fit output is a covariance matrix.\n",
    "s_error = np.sqrt(np.diag(s_cov)) #The diagonals of the covariance matrix are the variances of individual parameters.\n",
    "s_ae = s_error[0]                   #The errors will be in an order corresponding to the order of the parameters in their array\n",
    "s_be = s_error[1]\n",
    "s_ce = s_error[2]\n",
    "\n",
    "#Create array to plot\n",
    "s_curve = s_a*xdata**2+s_b*xdata+s_c\n",
    "\n",
    "#Print Values\n",
    "print('a: '+str(s_a)+u' \\u00B1 '+str(s_ae))\n",
    "print('b: '+str(s_b)+u' \\u00B1 '+str(s_be))\n",
    "print('c: '+str(s_c)+u' \\u00B1 '+str(s_ce))"
   ]
  },
  {
   "cell_type": "markdown",
   "metadata": {},
   "source": [
    "### lmfit\n",
    "\n",
    "LmFit is much less common than SciPy because it is built for a much narrower focus; unlike SciPy, LmFit only does curve fitting.</br>\n",
    "However, LmFit has some nice features that SciPy's optimize module does not."
   ]
  },
  {
   "cell_type": "code",
   "execution_count": 8,
   "metadata": {},
   "outputs": [
    {
     "data": {
      "text/html": [
       "<h2> Model</h2> Model(f) <h2>Fit Statistics</h2><table><tr><td>fitting method</td><td>leastsq</td><td></td></tr><tr><td># function evals</td><td>8</td><td></td></tr><tr><td># data points</td><td>50</td><td></td></tr><tr><td># variables</td><td>3</td><td></td></tr><tr><td>chi-square</td><td> 43.3861678</td><td></td></tr><tr><td>reduced chi-square</td><td> 0.92310995</td><td></td></tr><tr><td>Akaike info crit.</td><td>-1.09411648</td><td></td></tr><tr><td>Bayesian info crit.</td><td> 4.64195254</td><td></td></tr></table><h2>Variables</h2><table><tr><th> name </th><th> value </th><th> standard error </th><th> relative error </th><th> initial value </th><th> min </th><th> max </th><th> vary </th></tr><tr><td> a </td><td>  1.11509772 </td><td>  0.07010108 </td><td> 6.29% </td><td> 1 </td><td>        -inf </td><td>         inf </td><td> True </td></tr><tr><td> b </td><td> -0.64217352 </td><td>  0.36244774 </td><td> -56.44% </td><td> 0 </td><td>        -inf </td><td>         inf </td><td> True </td></tr><tr><td> c </td><td>  0.84444491 </td><td>  0.39184863 </td><td> 46.40% </td><td> 0 </td><td>        -inf </td><td>         inf </td><td> True </td></tr></table><h2>Correlations (unreported correlations are < 0.100)</h2><table><tr><td>a</td><td>b</td><td>-0.9671</td></tr><tr><td>b</td><td>c</td><td>-0.8560</td></tr><tr><td>a</td><td>c</td><td>0.7302</td></tr></table>"
      ],
      "text/plain": [
       "<lmfit.model.ModelResult at 0x2412480ec50>"
      ]
     },
     "execution_count": 8,
     "metadata": {},
     "output_type": "execute_result"
    }
   ],
   "source": [
    "#Setup\n",
    "weighdata = 1/sigdata                       #We will need weights for lmfit. This tells us how much to account for a single data point in the fit.\n",
    "l_mod = lf.Model(f)                         #Tell lmfit that we want to model the function f\n",
    "params = l_mod.make_params(a=1, b=0, c=0)   #Give lmfit our initial guesses - again, the true function\n",
    "\n",
    "#Do fit\n",
    "l_fit = l_mod.fit(ydata, params, x=xdata, weights=weighdata) #Here is where the weights we set at the beginning come in.\n",
    "\n",
    "#Define Stuff\n",
    "l_dict = l_fit.best_values #l_fit has a lot of output. We want to use the final result.\n",
    "l_a = l_dict['a']          #Dictionary items are called based on their name.\n",
    "l_b = l_dict['b']          #So, we don't have to track the order of parameters.\n",
    "l_c = l_dict['c']\n",
    "\n",
    "#Create array to plot\n",
    "l_curve = l_a*xdata**2+l_b*xdata+l_c\n",
    "\n",
    "l_fit #Display information about the fit"
   ]
  },
  {
   "cell_type": "markdown",
   "metadata": {},
   "source": [
    "While SciPy required a bit less setup, the output of LmFit is much nicer. I also find the code for using lmfit more readable.</br>\n",
    "LmFit also contains a bit more information, such as &Chi;<sup>2</sup> values.\n",
    "\n",
    "The parameter values and errors, though, are more or less the same."
   ]
  },
  {
   "cell_type": "markdown",
   "metadata": {},
   "source": [
    "### Plotting\n",
    "\n",
    "Now it's time to plot everything together for comparison."
   ]
  },
  {
   "cell_type": "code",
   "execution_count": 12,
   "metadata": {},
   "outputs": [
    {
     "data": {
      "image/png": "[encoded data removed]",
      "text/plain": [
       "<Figure size 648x576 with 1 Axes>"
      ]
     },
     "metadata": {
      "needs_background": "light"
     },
     "output_type": "display_data"
    }
   ],
   "source": [
    "#Now we plot everything together to compare\n",
    "\n",
    "fig = plt.figure(figsize=(9.0,8.0))                #size of the plot\n",
    "\n",
    "plt.errorbar(xdata,ydata,yerr=sigdata,fmt='bo',label='Data') #Plot points (fmt='*o') with error bars\n",
    "plt.plot(xdata,ycurve,label='Function')\n",
    "plt.plot(xdata,s_curve,linestyle='--',label='SciPy')\n",
    "plt.plot(xdata,l_curve,linestyle='--',label='LmFit')\n",
    "\n",
    "plt.legend()\n",
    "plt.show()"
   ]
  },
  {
   "cell_type": "markdown",
   "metadata": {},
   "source": [
    "There's no visible difference between our two curve fits -- in fact, we can only see one of them. (If you want to see the other, comment out the one that's visible; they're right on top of each other)."
   ]
  },
  {
   "cell_type": "code",
   "execution_count": null,
   "metadata": {},
   "outputs": [],
   "source": []
  }
 ],
 "metadata": {
  "kernelspec": {
   "display_name": "Python 3",
   "language": "python",
   "name": "python3"
  },
  "language_info": {
   "codemirror_mode": {
    "name": "ipython",
    "version": 3
   },
   "file_extension": ".py",
   "mimetype": "text/x-python",
   "name": "python",
   "nbconvert_exporter": "python",
   "pygments_lexer": "ipython3",
   "version": "3.7.3"
  }
 },
 "nbformat": 4,
 "nbformat_minor": 2
}
