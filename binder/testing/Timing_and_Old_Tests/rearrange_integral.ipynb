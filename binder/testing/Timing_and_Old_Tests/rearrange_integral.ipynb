{
 "cells": [
  {
   "cell_type": "code",
   "execution_count": 64,
   "metadata": {},
   "outputs": [],
   "source": [
    "import sympy as sym\n",
    "import numpy as np\n",
    "from sympy import lowergamma as lg\n",
    "from IPython.display import display, Latex\n",
    "import scipy.special as ss\n",
    "import scipy.optimize as so"
   ]
  },
  {
   "cell_type": "code",
   "execution_count": 92,
   "metadata": {},
   "outputs": [],
   "source": [
    "#Parameters\n",
    "\n",
    "#Constants\n",
    "n = 2.7                                     #concentration parameter that describes the curvature of the profile in a radius-magnitude plot, n=4 is de Vaucoileurs profile\n",
    "re = 2.6                                    #1kpc\n",
    "L = 3.27e10                                 #luminosity\n",
    "G = 4.300e-6                                #gravitational constant (kpc/solar mass*(km/s)^2)\n",
    "ups = 2.8                                   #mass-to-light ratio (from Rotation Curves of Sersic Bulges paper)\n",
    "q = 0.33                                    #intrinsic axis ratio\n",
    "i = 45*(sym.pi/180)                          #inclination angle\n",
    "\n",
    "#Gamma Function\n",
    "def f(x):\n",
    "    return sym.gamma(2*n)*(lg(2*n,x)-0.5)\n",
    "root = so.brentq(f,0,500000,rtol=0.000001,maxiter=100) #come within 1% of exact root within 100 iterations\n",
    "\n",
    "#Inner Function\n",
    "innerf = lambda x,m,n,re: ((sym.exp(-sym.power(x/r0(n,re), (1/n))))*(sym.power(x/r0(n,re), ((1/n)-1))))/(sym.sqrt((x**2)-(m**2)))\n",
    "#Integrate Inner Function\n",
    "g = lambda m,n,re: quad(innerf, m, sym.inf,args=(m,n,re,))[0]\n",
    "I0 = (L*(root**(2*n)))/(((re**2)*2*np.pi*n)*ss.gamma(2*n))\n",
    "r0 = re/root**n\n",
    "\n",
    "#equations\n",
    "C = (4*G*q*ups*I0)/(r0*n)*(sym.sqrt((sym.sin(i)**2)+(1/(q**2))*(sym.cos(i)**2)))\n",
    "e2 = 1-(q**2)\n",
    "\n",
    "#Set up h\n",
    "def h(m,r):\n",
    "    return C*g(m)*(m**2)/(sym.sqrt((r**2)-((m**2)*(e2))))\n",
    "\n",
    "r = sym.Symbol('r')\n",
    "#sym.integrate(h,r) #Not working >:?"
   ]
  },
  {
   "cell_type": "code",
   "execution_count": 82,
   "metadata": {},
   "outputs": [
    {
     "data": {
      "text/latex": [
       "956.030435131715"
      ],
      "text/plain": [
       "<IPython.core.display.Latex object>"
      ]
     },
     "metadata": {},
     "output_type": "display_data"
    }
   ],
   "source": [
    "sym.init_printing(use_latex='mathjax')\n",
    "#int_x = sym.Integral(sym.cos(x)*sym.exp(x),x)\n",
    "result = \"{}\".format(sym.latex(C))\n",
    "display(Latex(result))"
   ]
  },
  {
   "cell_type": "markdown",
   "metadata": {},
   "source": [
    "Wolfram alpha says there is no symbolic solution :( it did a taylor expansion but that won't be valid everywhere, just at very small r~0."
   ]
  },
  {
   "cell_type": "code",
   "execution_count": null,
   "metadata": {},
   "outputs": [],
   "source": []
  }
 ],
 "metadata": {
  "kernelspec": {
   "display_name": "Python 3",
   "language": "python",
   "name": "python3"
  },
  "language_info": {
   "codemirror_mode": {
    "name": "ipython",
    "version": 3
   },
   "file_extension": ".py",
   "mimetype": "text/x-python",
   "name": "python",
   "nbconvert_exporter": "python",
   "pygments_lexer": "ipython3",
   "version": "3.7.3"
  }
 },
 "nbformat": 4,
 "nbformat_minor": 4
}
