{
 "cells": [
  {
   "cell_type": "raw",
   "metadata": {},
   "source": [
    "#Trying to auto-detect path\n",
    "import gitpython as git\n",
    "\n",
    "repo = git.Repo('.', search_parent_directories=True)\n",
    "repo.working_tree_dir\n",
    "#git and gitpython both not found despite installing :/\n",
    "#and doesn't work in windows, either.\n",
    "#gitpath doesn't work in Windows"
   ]
  },
  {
   "cell_type": "raw",
   "metadata": {},
   "source": [
    "#try 2\n",
    "import subprocess\n",
    "\n",
    "def getGitRoot():\n",
    "    return subprocess.Popen(['git', 'rev-parse', '--show-toplevel'], stdout=subprocess.PIPE).communicate()[0].rstrip().decode('utf-8')"
   ]
  },
  {
   "cell_type": "raw",
   "metadata": {},
   "source": [
    "#did try 2 work?\n",
    "getGitRoot()\n",
    "#HECK YEAH IT DID!!\n",
    "#But it seems not to work on Windows. :/"
   ]
  },
  {
   "cell_type": "code",
   "execution_count": null,
   "metadata": {},
   "outputs": [],
   "source": []
  }
 ],
 "metadata": {
  "kernelspec": {
   "display_name": "Python 3",
   "language": "python",
   "name": "python3"
  },
  "language_info": {
   "codemirror_mode": {
    "name": "ipython",
    "version": 3
   },
   "file_extension": ".py",
   "mimetype": "text/x-python",
   "name": "python",
   "nbconvert_exporter": "python",
   "pygments_lexer": "ipython3",
   "version": "3.7.6"
  }
 },
 "nbformat": 4,
 "nbformat_minor": 4
}
