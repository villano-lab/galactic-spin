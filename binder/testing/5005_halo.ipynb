{
 "cells": [
  {
   "cell_type": "code",
   "execution_count": 1,
   "metadata": {},
   "outputs": [],
   "source": [
    "#Imports\n",
    "import sys\n",
    "sys.path.append('../python/')\n",
    "#import NGC5533_functions-newmag as nf\n",
    "\n",
    "import numpy as np\n",
    "import matplotlib.pyplot as plt\n",
    "import scipy.optimize as opt\n",
    "import lmfit as lm\n",
    "import dataPython as dp\n",
    "import scipy.interpolate as inter\n",
    "#import noordermeer as noord\n",
    "\n",
    "from datetime import datetime\n",
    "import time"
   ]
  },
  {
   "cell_type": "code",
   "execution_count": 2,
   "metadata": {},
   "outputs": [
    {
     "name": "stdout",
     "output_type": "stream",
     "text": [
      "[0.0, 0.1, 0.2, 0.3, 0.4, 0.5, 0.6, 0.7, 0.8, 0.9, 1.0, 1.1, 1.2, 1.3, 1.4, 1.5, 1.6, 1.7, 1.8, 1.9, 2.0, 2.1, 2.2, 2.3, 2.4, 2.5, 2.6, 2.7, 2.8, 2.9, 3.0, 3.1, 3.2, 3.3, 3.4, 3.5, 3.6, 3.7, 3.8, 3.9, 4.0, 4.1, 4.2, 4.3, 4.4, 4.5, 4.6, 4.7, 4.8, 4.9, 5.0, 5.1, 5.2, 5.3, 5.4, 5.5, 5.6, 5.7, 5.8, 5.9, 6.0, 6.1, 6.2, 6.3, 6.4, 6.5, 6.6, 6.7, 6.8, 6.9, 7.0, 7.1, 7.2, 7.3, 7.4, 7.5, 7.6, 7.7, 7.8, 7.9, 8.0, 8.1, 8.2, 8.3, 8.4, 8.5, 8.6, 8.7, 8.8, 8.9, 9.0, 9.1, 9.2, 9.3, 9.4, 9.5, 9.6, 9.7, 9.8, 9.9, 10.0, 10.1, 10.2, 10.3, 10.4, 10.5, 10.6, 10.7, 10.8, 10.9, 11.0, 11.1, 11.2]\n"
     ]
    }
   ],
   "source": [
    "#Halo datathief trace:\n",
    "halo_dt = dp.getXYdata('../NGC_5005/datatheif_halo_spline.txt')\n",
    "halo_dtr = halo_dt['xx']\n",
    "halo_dtv = halo_dt['yy']\n",
    "halo_dtv=np.asarray(halo_dtv)\n",
    "#halo_dtv=halo_dtv[:len(halo_dtv)-5]\n",
    "#halo_dtv=halo_dtv[0::6]\n",
    "halo_dtv_spline = inter.InterpolatedUnivariateSpline(halo_dtr,halo_dtv,k=5)\n",
    "halo_dtv_fit = halo_dtv_spline(halo_dtr)\n",
    "\n",
    "print(halo_dtr)"
   ]
  },
  {
   "cell_type": "code",
   "execution_count": 3,
   "metadata": {},
   "outputs": [
    {
     "name": "stdout",
     "output_type": "stream",
     "text": [
      "1.4142135623730951\n",
      "205270270.27027026\n",
      "0.12942551325967705\n"
     ]
    }
   ],
   "source": [
    "#parameters for NGC 5533\n",
    "gamma = 0\n",
    "h = 8.9                                                     #radial scale-length (kpc)\n",
    "rc = 1.4                                                    #core radius (kpc)\n",
    "G = 4.300e-6                                                #gravitational constant (kpc/solar mass*(km/s)^2)\n",
    "rho00 = 0.31e9                                              #central surface density (solar mass/kpc^3)\n",
    "\n",
    "#equations from Casertano's paper\n",
    "rhat = lambda r,z: np.sqrt((r**2)+(z**2))                   #r-hat from Casertano's eq(9)\n",
    "\n",
    "rho = lambda r,rho00,rc: rho00*((1+((r/rc)**2))**(-1))      #isothermal density profile\n",
    "v0h = lambda r,rho00,rc,z,G: np.sqrt(rho(r,rho00,rc)*4*np.pi*G*(rhat(r,z)**2))    #eq 9 Casertano\n",
    "vh = lambda r,rho00,rc,z,G,gamma: v0h(r,rho00,rc,z,G)*((r/rc)**gamma)             #eq 18 halo velocity from Casertano's paper\n",
    "#vh = lambda r,rho00,rc,z,G: v0h(r,rho00,rc,z,G)            #eq 10 Casertano\n",
    "\n",
    "print(rhat(1,1))\n",
    "print(rho(1,rho00,rc))\n",
    "print(vh(0.001,rho00,rc,0,G,gamma))"
   ]
  },
  {
   "cell_type": "code",
   "execution_count": 4,
   "metadata": {},
   "outputs": [
    {
     "data": {
      "image/png": "[encoded data removed]",
      "text/plain": [
       "<Figure size 648x432 with 1 Axes>"
      ]
     },
     "metadata": {
      "needs_background": "light"
     },
     "output_type": "display_data"
    }
   ],
   "source": [
    "r = np.linspace(0, 25, 500)\n",
    "\n",
    "plt.figure(figsize=(9,6))\n",
    "plt.plot(halo_dtr,halo_dtv,label='Fitted Halo')\n",
    "plt.plot(r, vh(r,rho00,rc,0,G,gamma), linestyle='solid', label='DM Velocity') \n",
    "\n",
    "plt.ylim(0,360)\n",
    "plt.xlim(0,13)\n",
    "plt.show()"
   ]
  },
  {
   "cell_type": "code",
   "execution_count": 5,
   "metadata": {},
   "outputs": [
    {
     "name": "stdout",
     "output_type": "stream",
     "text": [
      "WARNING: DO NOT USE THE disk.hdf5 OR bulge.hdf5 FILES WITH CALCULATIONS FROM THIS LIBRRY!!!!\n",
      "If you do, DISCARD ALL CHANGES TO THE FILE.\n",
      "Your calculations will NOT be consistent with this library's equations if you use the disk.hdf5 or bulge.hdf5 files,\n",
      "and if you write to that file it will contain calculations based on conflicting constants.\n",
      "Worst case scenario, reset the disk.hdf5 file to before the commit where you used this library to write to it.\n"
     ]
    }
   ],
   "source": [
    "#Imports\n",
    "import sys\n",
    "sys.path.append('../python/')\n",
    "import NGC5533_functions_newmag as nf\n",
    "\n",
    "import numpy as np\n",
    "import matplotlib.pyplot as plt\n",
    "import scipy.optimize as opt\n",
    "import lmfit as lm\n",
    "import dataPython as dp\n",
    "import scipy.interpolate as inter\n",
    "import noordermeer as noord\n",
    "\n",
    "from datetime import datetime\n",
    "import time"
   ]
  },
  {
   "cell_type": "code",
   "execution_count": 6,
   "metadata": {},
   "outputs": [],
   "source": [
    "def g(r,rc,rho00):\n",
    "    return nf.h_v(r,rc,rho00,load=False)"
   ]
  },
  {
   "cell_type": "code",
   "execution_count": 9,
   "metadata": {},
   "outputs": [],
   "source": [
    "# LMFit\n",
    "\n",
    "#Setup\n",
    "g_mod = lm.Model(g)\n",
    "g_params = g_mod.make_params()\n",
    "\n",
    "#Halo\n",
    "g_params.add('rc', value=nf.h_rc, min=0.1)          #Core radius (kpc)\n",
    "g_params.add('rho00', value=nf.hrho00_c, min=0)     #Central density \n",
    "\n",
    "#Do fit\n",
    "g_fit = g_mod.fit(halo_dtv,g_params,r=halo_dtr)\n",
    "bestg = g_fit.best_fit"
   ]
  },
  {
   "cell_type": "code",
   "execution_count": 10,
   "metadata": {},
   "outputs": [
    {
     "data": {
      "text/html": [
       "<h2> Model</h2> Model(g) <h2>Fit Statistics</h2><table><tr><td>fitting method</td><td>leastsq</td><td></td></tr><tr><td># function evals</td><td>27</td><td></td></tr><tr><td># data points</td><td>113</td><td></td></tr><tr><td># variables</td><td>2</td><td></td></tr><tr><td>chi-square</td><td> 149.864594</td><td></td></tr><tr><td>reduced chi-square</td><td> 1.35013148</td><td></td></tr><tr><td>Akaike info crit.</td><td> 35.9049126</td><td></td></tr><tr><td>Bayesian info crit.</td><td> 41.3596882</td><td></td></tr></table><h2>Variables</h2><table><tr><th> name </th><th> value </th><th> standard error </th><th> relative error </th><th> initial value </th><th> min </th><th> max </th><th> vary </th></tr><tr><td> rc </td><td>  2.46270995 </td><td>  0.01280806 </td><td> (0.52%) </td><td> 1.4 </td><td>  0.10000000 </td><td>         inf </td><td> True </td></tr><tr><td> rho00 </td><td>  1.4437e+08 </td><td>  1048054.31 </td><td> (0.73%) </td><td> 310000000.0 </td><td>  0.00000000 </td><td>         inf </td><td> True </td></tr></table><h2>Correlations (unreported correlations are < 0.100)</h2><table><tr><td>rc</td><td>rho00</td><td>-0.9774</td></tr></table>"
      ],
      "text/plain": [
       "<lmfit.model.ModelResult at 0x25f6f37a640>"
      ]
     },
     "execution_count": 10,
     "metadata": {},
     "output_type": "execute_result"
    }
   ],
   "source": [
    "g_fit"
   ]
  },
  {
   "cell_type": "code",
   "execution_count": 12,
   "metadata": {},
   "outputs": [
    {
     "data": {
      "image/png": "[encoded data removed]",
      "text/plain": [
       "<Figure size 504x288 with 1 Axes>"
      ]
     },
     "metadata": {
      "needs_background": "light"
     },
     "output_type": "display_data"
    }
   ],
   "source": [
    "plt.figure(figsize=(7,4))\n",
    "\n",
    "plt.plot(halo_dtr,halo_dtv,':',color='m',markersize=10,label='DataThief')\n",
    "plt.plot(halo_dtr,bestg,'r-',label='Fit components (prefactors)(125kpc)')\n",
    "plt.legend()\n",
    "#plt.ylim([0,100])\n",
    "#plt.xlim([0,12.9])\n",
    "plt.show()"
   ]
  },
  {
   "cell_type": "code",
   "execution_count": null,
   "metadata": {},
   "outputs": [],
   "source": []
  }
 ],
 "metadata": {
  "kernelspec": {
   "display_name": "Python 3",
   "language": "python",
   "name": "python3"
  },
  "language_info": {
   "codemirror_mode": {
    "name": "ipython",
    "version": 3
   },
   "file_extension": ".py",
   "mimetype": "text/x-python",
   "name": "python",
   "nbconvert_exporter": "python",
   "pygments_lexer": "ipython3",
   "version": "3.8.3"
  }
 },
 "nbformat": 4,
 "nbformat_minor": 4
}
