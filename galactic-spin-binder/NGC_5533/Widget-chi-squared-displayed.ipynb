{
 "cells": [
  {
   "cell_type": "code",
   "execution_count": 1,
   "metadata": {},
   "outputs": [],
   "source": [
    "#Imports\n",
    "import sys\n",
    "sys.path.append('../../python/')\n",
    "import NGC5533_functions as nf\n",
    "import noordermeer as noord\n",
    "import fitting_NGC5533 as fitting\n",
    "\n",
    "import numpy as np\n",
    "import matplotlib.pyplot as plt\n",
    "%matplotlib inline\n",
    "\n",
    "from ipywidgets import interactive, fixed, FloatSlider, HBox, Layout, Button, Label, Output, VBox\n",
    "\n",
    "from IPython.display import display, clear_output\n",
    "from IPython.display import Javascript\n",
    "\n",
    "import scipy.stats as stats\n",
    "import warnings\n",
    "warnings.filterwarnings(\"ignore\")  #ignore warnings"
   ]
  },
  {
   "cell_type": "code",
   "execution_count": 2,
   "metadata": {},
   "outputs": [
    {
     "name": "stdout",
     "output_type": "stream",
     "text": [
      "69\n"
     ]
    }
   ],
   "source": [
    "# Data\n",
    "data = noord.data\n",
    "data_total = noord.data_total\n",
    "r_dat = noord.r_dat\n",
    "v_dat = noord.v_dat\n",
    "v_err0 = noord.v_err0\n",
    "v_err1 = noord.v_err1\n",
    "\n",
    "\n",
    "print(len(v_dat))"
   ]
  },
  {
   "cell_type": "code",
   "execution_count": 3,
   "metadata": {},
   "outputs": [],
   "source": [
    "# Define components\n",
    "def blackhole(r,M):\n",
    "    return nf.bh_v(r,M,load=False)\n",
    "\n",
    "def bulge(r,bpref):\n",
    "    return bpref*nf.b_v(r,load=True)\n",
    "\n",
    "def disk(r,dpref):\n",
    "    return dpref*nf.d_thief(r)\n",
    "\n",
    "def halo(r,rc,rho00):\n",
    "    return nf.h_v(r,rc,rho00,load=False)\n",
    "\n",
    "def gas(r,gpref):\n",
    "    return gpref*nf.g_thief(r)\n",
    "\n",
    "def totalcurve(r,M,bpref,dpref,rc,rho00,gpref):\n",
    "    total = np.sqrt(blackhole(r,M)**2 \n",
    "                    + bulge(r,bpref)**2 \n",
    "                    + disk(r,dpref)**2\n",
    "                    + halo(r,rc,rho00)**2\n",
    "                    + gas(r,gpref)**2)\n",
    "    return total"
   ]
  },
  {
   "cell_type": "code",
   "execution_count": 4,
   "metadata": {},
   "outputs": [],
   "source": [
    "# Fitting parameters\n",
    "best_M = fitting.f_M\n",
    "best_bpref = fitting.f_c\n",
    "best_dpref = fitting.f_pref\n",
    "best_rc = fitting.f_rc\n",
    "best_rho00 = fitting.f_hrho00\n",
    "best_gpref = fitting.f_gpref\n"
   ]
  },
  {
   "cell_type": "code",
   "execution_count": 5,
   "metadata": {},
   "outputs": [],
   "source": [
    "# Define plotting function\n",
    "def f(M,bpref,dpref,rc,rho00,gpref):\n",
    "    \n",
    "    # Define r\n",
    "    r = np.linspace(0.1,100,1000)\n",
    "    \n",
    "    # Plot\n",
    "    plt.figure(figsize=(9,7))\n",
    "    plt.xlim(0,100)\n",
    "    plt.ylim(0,360)\n",
    "    \n",
    "    plt.errorbar(r_dat,v_dat,yerr=v_err1,fmt='bo',label='Data')\n",
    "    plt.plot(r,blackhole(r,M), label=(\"Black Hole\"))\n",
    "    plt.plot(r,bulge(r,bpref), label=(\"Bulge\"))\n",
    "    plt.plot(r,disk(r,dpref), label=(\"Disk\"))\n",
    "    plt.plot(r,halo(r,rc,rho00), label=(\"Halo\"))\n",
    "    plt.plot(r,gas(r,gpref), label=(\"Gas\"))\n",
    "    plt.plot(r,totalcurve(r,M,bpref,dpref,rc,rho00,gpref), label=(\"Total Curve\"))\n",
    "    \n",
    "    plt.legend()\n",
    "    plt.show()\n",
    "    \n",
    "    #Print values\n",
    "    print(\"Black Hole Mass = {:.2e} solar masses.\".format(M))\n",
    "    print(\"Bulge Prefactor = {:.2f}.\".format(bpref))\n",
    "    print(\"Disk Prefactor = {:.2f}.\".format(dpref))\n",
    "    print(\"Gas Prefactor = {:.2f}.\".format(gpref))    \n",
    "    print(\"Halo Core Radius = {:.2f} kpc.\".format(rc))\n",
    "    print(\"Halo Surface Density = {:.2e}.\".format(rho00))\n",
    "    \n",
    "    # Print chi squared and reduced chi squared\n",
    "    # Residuals\n",
    "    r = np.linspace(0.1,100,69)\n",
    "    residuals = v_dat - totalcurve(r_dat,M,bpref,dpref,rc,rho00,gpref)\n",
    "    # Determining errors\n",
    "    errors = np.sqrt(v_err1**2 + fitting.v_i**2) #second term is inclination uncertainty\n",
    "    # Chi squared\n",
    "    chisquared = np.sum(residuals**2/errors**2)\n",
    "    #chisquared = stats.chisquare(v_dat,totalcurve(r,M,bpref,dpref,rc,rho00,gpref))\n",
    "    reducedchisquared = chisquared * (1/(len(r_dat)-6))\n",
    "    print(\"Chi squared = {:.5f}\".format(chisquared))\n",
    "    print(\"Reduced Chi squared = {:.5f}.\".format(reducedchisquared))\n"
   ]
  },
  {
   "cell_type": "code",
   "execution_count": 6,
   "metadata": {},
   "outputs": [
    {
     "data": {
      "application/vnd.jupyter.widget-view+json": {
       "model_id": "b47af28a1e51488da891b7217b56247c",
       "version_major": 2,
       "version_minor": 0
      },
      "text/plain": [
       "VBox(children=(Button(button_style='warning', description='Best Fit', icon='check', style=ButtonStyle()), Outp…"
      ]
     },
     "metadata": {},
     "output_type": "display_data"
    }
   ],
   "source": [
    "\n",
    "\n",
    "# Appearance\n",
    "style = {'description_width': 'initial'}\n",
    "layout = {'width':'600px'}\n",
    "\n",
    "# Define slides\n",
    "M = FloatSlider(min=0, max=5e9, step=1e8, value=best_M, description='Black Hole Mass [$M_{\\odot}$]', readout_format='.2e', orientation='horizontal', style=style, layout=layout)\n",
    "bpref = FloatSlider(min=0, max=5, step=0.1, value=best_bpref, description='Bulge Prefactor', readout_format='.2f', orientation='horizontal', style=style, layout=layout)\n",
    "dpref = FloatSlider(min=0, max=5, step=0.1, value=best_dpref, description='Disk Prefactor', readout_format='.2f', orientation='horizontal', style=style, layout=layout)\n",
    "#rc = FloatSlider(min=0, max=5, step=0.1, value=best_rc, description='Halo Core Radius [kpc]', readout_format='.2f', orientation='horizontal', style=style, layout=layout)\n",
    "rc = fixed(best_rc)\n",
    "rho00 = FloatSlider(min=0, max=1e9, step=1e7, value=best_rho00, description='Halo Surface Density [$M_{\\odot} / pc^3$]', readout_format='.2e', orientation='horizontal', style=style, layout=layout)\n",
    "gpref = FloatSlider(min=0, max=5, step=0.1, value=best_gpref, description='Gas Prefactor', readout_format='.2f', orientation='horizontal', style=style, layout=layout)\n",
    "\n",
    "# Interactive widget\n",
    "def interactive_plot(f):\n",
    "    interact = interactive(f, M = M, \n",
    "                               bpref = bpref, \n",
    "                               dpref = dpref, \n",
    "                               rc = rc,\n",
    "                               rho00 = rho00,\n",
    "                               gpref = gpref,\n",
    "                               continuous_update=False)\n",
    "    return interact\n",
    "\n",
    "# Button to revert back to Best Fit\n",
    "button = Button(\n",
    "    description=\"Best Fit\",\n",
    "    button_style='warning', # 'success', 'info', 'warning', 'danger' or ''\n",
    "    icon='check')\n",
    "out = Output()\n",
    "\n",
    "def on_button_clicked(_):\n",
    "    #display(Javascript('IPython.notebook.execute_cells_below()'))\n",
    "    M.value = best_M\n",
    "    bpref.value = best_bpref\n",
    "    dpref.value = best_dpref\n",
    "    rho00.value = best_rho00\n",
    "    gpref.value = best_gpref\n",
    "\n",
    "button.on_click(on_button_clicked)\n",
    "\n",
    "# displaying button and its output together\n",
    "VBox([button,out,interactive_plot(f)])\n",
    "\n",
    "#interactive_plot(f)\n"
   ]
  },
  {
   "cell_type": "code",
   "execution_count": null,
   "metadata": {},
   "outputs": [],
   "source": []
  }
 ],
 "metadata": {
  "kernelspec": {
   "display_name": "Python 3",
   "language": "python",
   "name": "python3"
  },
  "language_info": {
   "codemirror_mode": {
    "name": "ipython",
    "version": 3
   },
   "file_extension": ".py",
   "mimetype": "text/x-python",
   "name": "python",
   "nbconvert_exporter": "python",
   "pygments_lexer": "ipython3",
   "version": "3.7.1"
  }
 },
 "nbformat": 4,
 "nbformat_minor": 2
}
